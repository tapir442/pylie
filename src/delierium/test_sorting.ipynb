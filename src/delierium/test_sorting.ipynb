{
 "cells": [
  {
   "cell_type": "code",
   "execution_count": 1,
   "id": "8fdf4ccc-8f07-42ca-ae43-b57073fd178f",
   "metadata": {},
   "outputs": [],
   "source": [
    "import os\n",
    "os.environ[\"USE_SYMENGINE\"] = \"1\"\n",
    "\n",
    "from sympy.core.backend import *\n",
    "from delierium.matrix_order import Context, Mgrlex, Mgrevlex, Mlex\n",
    "from delierium.JanetBasis import Janet_Basis, LHDP, Reorder, _Dterm\n",
    "from delierium.helpers import latexer\n",
    "from IPython.display import Math\n",
    "\n",
    "x, y = symbols(\"x, y\")\n",
    "z = Function(\"z\")(x,y)\n",
    "w = Function(\"w\")(x,y)\n",
    "import time\n",
    "# ctx: items are in descending order\n",
    "ctx_grevlex_g = Context((w,z), [x, y], Mgrevlex)\n",
    "ctx_grlex_g   = Context((w,z), [x, y], Mgrlex)\n",
    "ctx_lex_g     = Context((w,z), [x, y],  Mlex)\n",
    "\n",
    "g = [diff(z, y,y),\n",
    "     diff(w,x,x),\n",
    "     diff(w,x,y),\n",
    "     diff(w,y,y),\n",
    "     z,\n",
    "     w,\n",
    "     diff(z, x, x),\n",
    "     diff(w, y),\n",
    "     diff(w, x),\n",
    "     diff(z, x),\n",
    "     diff(z, y),\n",
    "     diff(z, x, y)]\n",
    "\n",
    "j = [LHDP(_, ctx_lex_g) for _ in g]\n",
    "\n",
    "\n",
    "# 2.25 is already autoreduced"
   ]
  },
  {
   "cell_type": "code",
   "execution_count": 4,
   "id": "ec4bc644-2106-443e-a2db-695d821bc53b",
   "metadata": {},
   "outputs": [],
   "source": [
    "def test_function():\n",
    "    ctx1 = Context((w,z), [x, y], Mgrevlex)\n",
    "    ctx2 = Context((w,z), [y, x], Mgrevlex)\n",
    "    ctx3 = Context((z, w), [x, y], Mgrevlex)\n",
    "    ctx4 = Context((z, w), [y, x], Mgrevlex)\n",
    "    _w = _Dterm(coeff = 1, derivative=w, context = ctx1)\n",
    "    _z = _Dterm(coeff = 1, derivative=z, context = ctx1)\n",
    "    assert ctx1.gt(_w.comparison_vector, _z.comparison_vector)  \n",
    "    assert ctx2.gt(_w.comparison_vector, _z.comparison_vector)\n",
    "    assert ctx3.gt(_w.comparison_vector, _z.comparison_vector)\n",
    "    assert ctx4.gt(_w.comparison_vector, _z.comparison_vector)\n",
    "test_function()"
   ]
  },
  {
   "cell_type": "code",
   "execution_count": null,
   "id": "acf8199c-265a-4660-b7d4-4cebb9cfbb3b",
   "metadata": {},
   "outputs": [],
   "source": []
  }
 ],
 "metadata": {
  "kernelspec": {
   "display_name": "Python 3 (ipykernel)",
   "language": "python",
   "name": "python3"
  },
  "language_info": {
   "codemirror_mode": {
    "name": "ipython",
    "version": 3
   },
   "file_extension": ".py",
   "mimetype": "text/x-python",
   "name": "python",
   "nbconvert_exporter": "python",
   "pygments_lexer": "ipython3",
   "version": "3.12.4"
  }
 },
 "nbformat": 4,
 "nbformat_minor": 5
}
