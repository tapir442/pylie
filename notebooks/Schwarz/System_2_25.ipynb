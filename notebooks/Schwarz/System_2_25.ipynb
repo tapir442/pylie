{
 "cells": [
  {
   "cell_type": "code",
   "execution_count": 1,
   "id": "b39e2f41-3eb2-447d-b7e3-ac83b0d9ee73",
   "metadata": {},
   "outputs": [],
   "source": [
    "from sympy import symbols, Function, diff\n",
    "from delierium.matrix_order import Context, Mgrlex, Mgrevlex, Mlex\n",
    "from delierium.JanetBasis import Janet_Basis, _Differential_Polynomial\n",
    "from delierium.helpers import latexer\n",
    "from IPython.display import Math\n",
    "\n",
    "x, y = symbols(\"x, y\")\n",
    "z = Function(\"z\")(x,y)\n",
    "w = Function(\"w\")(x,y)\n",
    "import time\n",
    "%load_ext snakeviz\n",
    "\n",
    "# ctx: items are in descending order\n",
    "ctx_grevlex_g = Context((w,z), [x, y], Mgrevlex)\n",
    "ctx_grlex_g   = Context((w,z), [x, y], Mgrlex)\n",
    "ctx_lex_g     = Context((w,z), [x, y],  Mlex)\n",
    "\n",
    "g1 = diff(z, y,y) + diff(z,y)/(2*y)\n",
    "g2 = diff(w,x,x) + 4*diff(w,y)*y**2 - 8*(y**2) * diff(z,x) - 8*w*y\n",
    "g3 = diff(w,x,y) - diff(z,x,x)/2 - diff(w,x)/(2*y) - 6* (y**2) * diff(z,y)\n",
    "g4 = diff(w,y,y) - 2*diff(z,x,y) - diff(w,y)/(2*y) + w/(2*y**2)\n",
    "\n",
    "system_2_25 = [g2,g3,g4,g1]\n",
    "\n",
    "# 2.25 is already autoreduced"
   ]
  },
  {
   "cell_type": "code",
   "execution_count": 2,
   "id": "90c7f9da-cbda-4c47-ab49-dfbb6cabb305",
   "metadata": {},
   "outputs": [
    {
     "name": "stdout",
     "output_type": "stream",
     "text": [
      "[w(x, y)]\n",
      "[Derivative(z(x, y), x)]\n",
      "[Derivative(z(x, y), y)]\n",
      "0.48415327072143555\n"
     ]
    }
   ],
   "source": [
    "start=time.time()\n",
    "ordering = Mgrevlex\n",
    "jb=Janet_Basis(system_2_25, [w, z], [y, x], ordering)\n",
    "jb.show(rich=False, short=True)\n",
    "print(time.time() - start)"
   ]
  },
  {
   "cell_type": "code",
   "execution_count": 3,
   "id": "63f7f783-5626-4c8b-ac78-cb23421fddb3",
   "metadata": {},
   "outputs": [
    {
     "name": "stdout",
     "output_type": "stream",
     "text": [
      "[Derivative(z(x, y), y)]\n",
      "[Derivative(z(x, y), x), w(x, y)]\n",
      "[Derivative(w(x, y), y), w(x, y)]\n",
      "[Derivative(w(x, y), x)]\n",
      "0.5598435401916504\n",
      "======================================================================================================================================================\n",
      "[w(x, y)]\n",
      "[Derivative(w(x, y), y)]\n",
      "[Derivative(z(x, y), y)]\n",
      "[Derivative(z(x, y), x)]\n",
      "[Derivative(z(x, y), x, y)]\n",
      "0.46071934700012207\n",
      "======================================================================================================================================================\n",
      "[w(x, y)]\n",
      "[Derivative(z(x, y), x)]\n",
      "[Derivative(z(x, y), y)]\n",
      "0.41350865364074707\n",
      "======================================================================================================================================================\n",
      "[Derivative(z(x, y), y)]\n",
      "[Derivative(w(x, y), (x, 2)), Derivative(z(x, y), x), Derivative(w(x, y), y), w(x, y)]\n",
      "[Derivative(w(x, y), (y, 2)), Derivative(w(x, y), y), w(x, y)]\n",
      "[Derivative(z(x, y), (x, 2)), Derivative(w(x, y), x, y), Derivative(z(x, y), y), Derivative(w(x, y), x)]\n",
      "[Derivative(z(x, y), x, y)]\n",
      "[Derivative(w(x, y), x, (y, 2)), Derivative(w(x, y), x, y), Derivative(w(x, y), x)]\n",
      "0.9916925430297852\n",
      "======================================================================================================================================================\n"
     ]
    }
   ],
   "source": [
    "start=time.time()\n",
    "ordering = Mgrevlex\n",
    "jb=Janet_Basis(system_2_25, [w, z], [x,y], ordering)\n",
    "jb.show(rich=False, short=True)\n",
    "print(time.time() - start)\n",
    "print(\"=\"*150)\n",
    "start=time.time()\n",
    "jb=Janet_Basis(system_2_25, [z, w], [x,y], ordering)\n",
    "jb.show(rich=False, short=True)\n",
    "print(time.time() - start)\n",
    "print(\"=\"*150)\n",
    "start=time.time()\n",
    "jb=Janet_Basis(system_2_25, [w, z], [y, x], ordering)\n",
    "jb.show(rich=False, short=True)\n",
    "print(time.time() - start)\n",
    "print(\"=\"*150)\n",
    "jb=Janet_Basis(system_2_25, [z, w], [y, x], ordering)\n",
    "jb.show(rich=False, short=True)\n",
    "print(time.time() - start)\n",
    "print(\"=\"*150)\n",
    "\n"
   ]
  },
  {
   "cell_type": "code",
   "execution_count": 4,
   "id": "900edc2a-aa03-4ce7-a0b2-2459065ecfcf",
   "metadata": {},
   "outputs": [
    {
     "name": "stdout",
     "output_type": "stream",
     "text": [
      "[Derivative(z(x, y), y)]\n",
      "[Derivative(z(x, y), x), w(x, y)]\n",
      "[Derivative(w(x, y), y), w(x, y)]\n",
      "[Derivative(w(x, y), x)]\n",
      "0.4719371795654297\n",
      "======================================================================================================================================================\n",
      "[w(x, y)]\n",
      "[Derivative(w(x, y), y)]\n",
      "[Derivative(z(x, y), y)]\n",
      "[Derivative(z(x, y), x)]\n",
      "[Derivative(z(x, y), x, y)]\n",
      "0.36419224739074707\n",
      "======================================================================================================================================================\n",
      "[w(x, y)]\n",
      "[Derivative(z(x, y), x)]\n",
      "[Derivative(z(x, y), y)]\n",
      "0.3489212989807129\n",
      "======================================================================================================================================================\n",
      "[Derivative(z(x, y), y)]\n",
      "[Derivative(w(x, y), (x, 2)), Derivative(z(x, y), x), Derivative(w(x, y), y), w(x, y)]\n",
      "[Derivative(w(x, y), (y, 2)), Derivative(w(x, y), y), w(x, y)]\n",
      "[Derivative(z(x, y), (x, 2)), Derivative(w(x, y), x, y), Derivative(z(x, y), y), Derivative(w(x, y), x)]\n",
      "[Derivative(z(x, y), x, y)]\n",
      "[Derivative(w(x, y), x, (y, 2)), Derivative(w(x, y), x, y), Derivative(w(x, y), x)]\n",
      "0.8584582805633545\n",
      "======================================================================================================================================================\n"
     ]
    }
   ],
   "source": [
    "start=time.time()\n",
    "ordering = Mgrlex\n",
    "jb=Janet_Basis(system_2_25, [w, z], [x,y], ordering)\n",
    "jb.show(rich=False, short=True)\n",
    "print(time.time() - start)\n",
    "print(\"=\"*150)\n",
    "start=time.time()\n",
    "jb=Janet_Basis(system_2_25, [z, w], [x,y], ordering)\n",
    "jb.show(rich=False, short=True)\n",
    "print(time.time() - start)\n",
    "print(\"=\"*150)\n",
    "start=time.time()\n",
    "jb=Janet_Basis(system_2_25, [w, z], [y, x], ordering)\n",
    "jb.show(rich=False, short=True)\n",
    "print(time.time() - start)\n",
    "print(\"=\"*150)\n",
    "jb=Janet_Basis(system_2_25, [z, w], [y, x], ordering)\n",
    "jb.show(rich=False, short=True)\n",
    "print(time.time() - start)\n",
    "print(\"=\"*150)"
   ]
  },
  {
   "cell_type": "code",
   "execution_count": 5,
   "id": "653ad4ca-120d-4245-b456-0da31aac39a6",
   "metadata": {},
   "outputs": [
    {
     "name": "stdout",
     "output_type": "stream",
     "text": [
      "[Derivative(z(x, y), y)]\n",
      "[Derivative(z(x, y), (y, 2))]\n",
      "[Derivative(z(x, y), x, y)]\n",
      "[Derivative(z(x, y), x, (y, 2))]\n",
      "[Derivative(z(x, y), (x, 2)), Derivative(z(x, y), (y, 2)), Derivative(z(x, y), y)]\n",
      "[w(x, y), Derivative(z(x, y), x)]\n",
      "0.8129563331604004\n",
      "======================================================================================================================================================\n",
      "[w(x, y)]\n",
      "[Derivative(w(x, y), y)]\n",
      "[Derivative(w(x, y), x)]\n",
      "[Derivative(w(x, y), x, y)]\n",
      "[Derivative(z(x, y), y)]\n",
      "[Derivative(z(x, y), x)]\n",
      "0.4530630111694336\n",
      "======================================================================================================================================================\n",
      "[Derivative(z(x, y), (x, 2))]\n",
      "[Derivative(z(x, y), (x, 3))]\n",
      "[Derivative(z(x, y), (x, 4))]\n",
      "[Derivative(z(x, y), y), Derivative(z(x, y), (x, 8)), Derivative(z(x, y), (x, 6)), Derivative(z(x, y), (x, 4)), Derivative(z(x, y), (x, 2))]\n",
      "[Derivative(z(x, y), x, y), Derivative(z(x, y), (x, 9)), Derivative(z(x, y), (x, 7)), Derivative(z(x, y), (x, 5)), Derivative(z(x, y), (x, 3))]\n",
      "[w(x, y), Derivative(z(x, y), x)]\n",
      "0.4988706111907959\n",
      "======================================================================================================================================================\n",
      "[Derivative(w(x, y), x)]\n",
      "[Derivative(w(x, y), (x, 2))]\n",
      "[Derivative(w(x, y), (x, 6)), Derivative(w(x, y), (x, 4)), Derivative(w(x, y), (x, 2))]\n",
      "[Derivative(w(x, y), y), Derivative(w(x, y), (x, 6)), Derivative(w(x, y), (x, 4)), Derivative(w(x, y), (x, 2)), w(x, y)]\n",
      "[Derivative(z(x, y), x), w(x, y)]\n",
      "[Derivative(z(x, y), y), Derivative(z(x, y), (x, 2))]\n",
      "0.9783906936645508\n",
      "======================================================================================================================================================\n"
     ]
    }
   ],
   "source": [
    "start=time.time()\n",
    "ordering = Mlex\n",
    "jb=Janet_Basis(system_2_25, [w, z], [x,y], ordering)\n",
    "jb.show(rich=False, short=True)\n",
    "print(time.time() - start)\n",
    "print(\"=\"*150)\n",
    "start=time.time()\n",
    "jb=Janet_Basis(system_2_25, [z, w], [x,y], ordering)\n",
    "jb.show(rich=False, short=True)\n",
    "print(time.time() - start)\n",
    "print(\"=\"*150)\n",
    "start=time.time()\n",
    "jb=Janet_Basis(system_2_25, [w, z], [y, x], ordering)\n",
    "jb.show(rich=False, short=True)\n",
    "print(time.time() - start)\n",
    "print(\"=\"*150)\n",
    "jb=Janet_Basis(system_2_25, [z, w], [y, x], ordering)\n",
    "jb.show(rich=False, short=True)\n",
    "print(time.time() - start)\n",
    "print(\"=\"*150)"
   ]
  },
  {
   "cell_type": "code",
   "execution_count": null,
   "id": "0f0c8b9b-f73a-44db-9146-e18ea890f129",
   "metadata": {},
   "outputs": [],
   "source": []
  }
 ],
 "metadata": {
  "kernelspec": {
   "display_name": "SageMath 10.2",
   "language": "sage",
   "name": "sagemath"
  },
  "language_info": {
   "codemirror_mode": {
    "name": "ipython",
    "version": 3
   },
   "file_extension": ".py",
   "mimetype": "text/x-python",
   "name": "python",
   "nbconvert_exporter": "python",
   "pygments_lexer": "ipython3",
   "version": "3.11.10"
  },
  "widgets": {
   "application/vnd.jupyter.widget-state+json": {
    "state": {},
    "version_major": 2,
    "version_minor": 0
   }
  }
 },
 "nbformat": 4,
 "nbformat_minor": 5
}
