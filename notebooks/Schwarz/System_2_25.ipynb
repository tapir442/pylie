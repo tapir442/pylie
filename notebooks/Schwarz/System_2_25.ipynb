{
 "cells": [
  {
   "cell_type": "code",
   "execution_count": 4,
   "id": "b39e2f41-3eb2-447d-b7e3-ac83b0d9ee73",
   "metadata": {},
   "outputs": [],
   "source": [
    "import os\n",
    "os.environ[\"USE_SYMENGINE\"] = \"1\"\n",
    "\n",
    "from sympy.core.backend import *\n",
    "from delierium.matrix_order import Context, Mgrlex, Mgrevlex, Mlex\n",
    "from delierium.JanetBasis import Janet_Basis, LHDP\n",
    "from delierium.helpers import latexer\n",
    "from IPython.display import Math\n",
    "\n",
    "x, y = symbols(\"x, y\")\n",
    "z = Function(\"z\")(x,y)\n",
    "w = Function(\"w\")(x,y)\n",
    "import time\n",
    "# ctx: items are in descending order\n",
    "ctx_grevlex_g = Context((w,z), [x, y], Mgrevlex)\n",
    "ctx_grlex_g   = Context((w,z), [x, y], Mgrlex)\n",
    "ctx_lex_g     = Context((w,z), [x, y],  Mlex)\n",
    "\n",
    "g1 = diff(z, y,y) + diff(z,y)/(2*y)\n",
    "g2 = diff(w,x,x) + 4*diff(w,y)*y**2 - 8*(y**2) * diff(z,x) - 8*w*y\n",
    "g3 = diff(w,x,y) - diff(z,x,x)/2 - diff(w,x)/(2*y) - 6* (y**2) * diff(z,y)\n",
    "g4 = diff(w,y,y) - 2*diff(z,x,y) - diff(w,y)/(2*y) + w/(2*y**2)\n",
    "\n",
    "system_2_25 = [g2,g3,g4,g1]\n",
    "\n",
    "# 2.25 is already autoreduced"
   ]
  },
  {
   "cell_type": "code",
   "execution_count": 5,
   "id": "90c7f9da-cbda-4c47-ab49-dfbb6cabb305",
   "metadata": {},
   "outputs": [],
   "source": [
    "start=time.time()#\n",
    "ordering = Mgrevlex\n",
    "#jb=Janet_Basis(system_2_25, [w, z], [y, x], ordering)\n",
    "#jb.show(rich=True, short=False)\n",
    "#print(time.time() - start)"
   ]
  },
  {
   "cell_type": "code",
   "execution_count": 6,
   "id": "63f7f783-5626-4c8b-ac78-cb23421fddb3",
   "metadata": {},
   "outputs": [
    {
     "name": "stdout",
     "output_type": "stream",
     "text": [
      "This is where we start\n",
      "D(z(x, y), y, y) + (1/(2*y)) * D(z(x, y), y)\n",
      "D(w(x, y), y, y) + (-2) * D(z(x, y), x, y) + (-1/(2*y)) * D(w(x, y), y) + (1/(2*y**2)) * w(x, y)\n",
      "D(w(x, y), x, y) + (-1/2) * D(z(x, y), (x, 2)) + (-1/(2*y)) * D(w(x, y), x) + (-6*y**2) * D(z(x, y), y)\n",
      "D(w(x, y), x, x) + (4*y**2) * D(w(x, y), y) + (-8*y**2) * D(z(x, y), x) + (-8*y) * w(x, y)\n",
      "after autoreduce\n",
      "after complete system\n",
      "after conditions\n",
      "after reduced [D(z(x, y), (x, 2), y) + (-6*y) * D(z(x, y), y), D(z(x, y), (x, 3)) + (12*y**2) * D(z(x, y), x, y) + (-24*y) * D(z(x, y), x) + (-12) * w(x, y)]\n",
      "This is where we start\n",
      "D(z(x, y), y, y) + (1/(2*y)) * D(z(x, y), y)\n",
      "D(w(x, y), y, y) + (-2) * D(z(x, y), x, y) + (-1/(2*y)) * D(w(x, y), y) + (1/(2*y**2)) * w(x, y)\n",
      "D(w(x, y), x, y) + (-1/2) * D(z(x, y), (x, 2)) + (-1/(2*y)) * D(w(x, y), x) + (-6*y**2) * D(z(x, y), y)\n",
      "D(w(x, y), x, x) + (4*y**2) * D(w(x, y), y) + (-8*y**2) * D(z(x, y), x) + (-8*y) * w(x, y)\n",
      "D(z(x, y), (x, 2), y) + (-6*y) * D(z(x, y), y)\n",
      "D(z(x, y), (x, 3)) + (12*y**2) * D(z(x, y), x, y) + (-24*y) * D(z(x, y), x) + (-12) * w(x, y)\n",
      "after autoreduce\n",
      "after complete system\n",
      "after conditions\n",
      "after reduced [D(z(x, y), (x, 2), y) + (-6*y) * D(z(x, y), y), D(z(x, y), (x, 3)) + (12*y**2) * D(z(x, y), x, y) + (-24*y) * D(z(x, y), x) + (-12) * w(x, y), D(w(x, y), y) + (2) * D(z(x, y), x)]\n",
      "This is where we start\n",
      "D(w(x, y), y) + (2) * D(z(x, y), x)\n",
      "D(z(x, y), y, y) + (1/(2*y)) * D(z(x, y), y)\n",
      "D(w(x, y), y, y) + (-2) * D(z(x, y), x, y) + (-1/(2*y)) * D(w(x, y), y) + (1/(2*y**2)) * w(x, y)\n",
      "D(w(x, y), x, y) + (-1/2) * D(z(x, y), (x, 2)) + (-1/(2*y)) * D(w(x, y), x) + (-6*y**2) * D(z(x, y), y)\n",
      "D(w(x, y), x, x) + (4*y**2) * D(w(x, y), y) + (-8*y**2) * D(z(x, y), x) + (-8*y) * w(x, y)\n",
      "D(z(x, y), (x, 2), y) + (-6*y) * D(z(x, y), y)\n",
      "D(z(x, y), (x, 3)) + (12*y**2) * D(z(x, y), x, y) + (-24*y) * D(z(x, y), x) + (-12) * w(x, y)\n",
      "D(z(x, y), (x, 2), (y, 2)) + (-6*y) * D(z(x, y), (y, 2)) + (-6) * D(z(x, y), y)\n",
      "D(z(x, y), (x, 2), (y, 3)) + (-6*y) * D(z(x, y), (y, 3)) + (-12) * D(z(x, y), (y, 2))\n",
      "after autoreduce\n",
      "after complete system\n",
      "after conditions\n",
      "after reduced [D(w(x, y), y) + (-1/y) * w(x, y), D(w(x, y), x)]\n",
      "This is where we start\n",
      "D(z(x, y), y)\n",
      "D(z(x, y), x) + (1/(2*y)) * w(x, y)\n",
      "D(w(x, y), y) + (-1/y) * w(x, y)\n",
      "D(w(x, y), x)\n",
      "after autoreduce\n",
      "after complete system\n",
      "after conditions\n",
      "after reduced [D(w(x, y), y) + (-1/y) * w(x, y), D(w(x, y), x)]\n"
     ]
    },
    {
     "data": {
      "text/latex": [
       "$\\displaystyle  z_{(y, 1)}[], []$"
      ],
      "text/plain": [
       "<IPython.core.display.Math object>"
      ]
     },
     "metadata": {},
     "output_type": "display_data"
    },
    {
     "data": {
      "text/latex": [
       "$\\displaystyle  z_{(x, 1)} + \\frac{1}{2 y} w[], []$"
      ],
      "text/plain": [
       "<IPython.core.display.Math object>"
      ]
     },
     "metadata": {},
     "output_type": "display_data"
    },
    {
     "data": {
      "text/latex": [
       "$\\displaystyle  w_{(y, 1)}- \\frac{1}{y} w[], []$"
      ],
      "text/plain": [
       "<IPython.core.display.Math object>"
      ]
     },
     "metadata": {},
     "output_type": "display_data"
    },
    {
     "data": {
      "text/latex": [
       "$\\displaystyle  w_{(x, 1)}[], []$"
      ],
      "text/plain": [
       "<IPython.core.display.Math object>"
      ]
     },
     "metadata": {},
     "output_type": "display_data"
    },
    {
     "name": "stdout",
     "output_type": "stream",
     "text": [
      "0.39101481437683105\n",
      "======================================================================================================================================================\n",
      "This is where we start\n",
      "D(w(x, y), x, x) + (-8*y**2) * D(z(x, y), x) + (4*y**2) * D(w(x, y), y) + (-8*y) * w(x, y)\n",
      "D(z(x, y), y, y) + (1/(2*y)) * D(z(x, y), y)\n",
      "D(z(x, y), x, y) + (-1/2) * D(w(x, y), y, y) + (1/(4*y)) * D(w(x, y), y) + (-1/(4*y**2)) * w(x, y)\n",
      "D(z(x, y), (x, 2)) + (-2) * D(w(x, y), x, y) + (12*y**2) * D(z(x, y), y) + (1/y) * D(w(x, y), x)\n",
      "after autoreduce\n",
      "after complete system\n",
      "after conditions\n",
      "after reduced [D(w(x, y), x, y, y) + (-1/(2*y)) * D(w(x, y), x, y) + (-12*y) * D(z(x, y), y) + (1/(2*y**2)) * D(w(x, y), x)]\n",
      "This is where we start\n",
      "D(w(x, y), x, x) + (-8*y**2) * D(z(x, y), x) + (4*y**2) * D(w(x, y), y) + (-8*y) * w(x, y)\n",
      "D(z(x, y), y, y) + (1/(2*y)) * D(z(x, y), y)\n",
      "D(z(x, y), x, y) + (-1/2) * D(w(x, y), y, y) + (1/(4*y)) * D(w(x, y), y) + (-1/(4*y**2)) * w(x, y)\n",
      "D(z(x, y), (x, 2)) + (-2) * D(w(x, y), x, y) + (12*y**2) * D(z(x, y), y) + (1/y) * D(w(x, y), x)\n",
      "D(w(x, y), x, y, y) + (-1/(2*y)) * D(w(x, y), x, y) + (-12*y) * D(z(x, y), y) + (1/(2*y**2)) * D(w(x, y), x)\n",
      "D(z(x, y), x, (y, 2)) + (-1/2) * D(w(x, y), y, y, y) + (1/(4*y)) * D(w(x, y), (y, 2)) + (-1/(2*y**2)) * D(w(x, y), y) + (1/(2*y**3)) * w(x, y)\n",
      "after autoreduce\n",
      "after complete system\n",
      "after conditions\n",
      "after reduced [D(z(x, y), y), D(z(x, y), x) + (1/2) * D(w(x, y), y) + (-y**2*(-16 - 1/y**3)/3) * w(x, y), D(w(x, y), x, y, y) + (-1/(2*y)) * D(w(x, y), x, y) + (-12*y) * D(z(x, y), y) + (1/(2*y**2)) * D(w(x, y), x)]\n",
      "This is where we start\n",
      "D(z(x, y), y)\n",
      "D(z(x, y), x) + (1/2) * D(w(x, y), y) + (-y**2*(-16 - 1/y**3)/3) * w(x, y)\n",
      "D(w(x, y), x, x) + (-8*y**2) * D(z(x, y), x) + (4*y**2) * D(w(x, y), y) + (-8*y) * w(x, y)\n",
      "D(z(x, y), y, y) + (1/(2*y)) * D(z(x, y), y)\n",
      "D(z(x, y), x, y) + (-1/2) * D(w(x, y), y, y) + (1/(4*y)) * D(w(x, y), y) + (-1/(4*y**2)) * w(x, y)\n",
      "D(z(x, y), (x, 2)) + (-2) * D(w(x, y), x, y) + (12*y**2) * D(z(x, y), y) + (1/y) * D(w(x, y), x)\n",
      "D(w(x, y), y, y, y) + (3/(4*y**2)) * D(w(x, y), y) + (-3/(4*y**3)) * w(x, y)\n",
      "D(w(x, y), x, y, y) + (-1/(2*y)) * D(w(x, y), x, y) + (-12*y) * D(z(x, y), y) + (1/(2*y**2)) * D(w(x, y), x)\n",
      "D(w(x, y), x, x, y) + (-8*y**2) * D(z(x, y), x, y) + (4*y**2) * D(w(x, y), (y, 2)) + (-16*y) * D(z(x, y), x) + (-8) * w(x, y)\n",
      "D(z(x, y), x, (y, 2)) + (-1/2) * D(w(x, y), y, y, y) + (1/(4*y)) * D(w(x, y), (y, 2)) + (-1/(2*y**2)) * D(w(x, y), y) + (1/(2*y**3)) * w(x, y)\n",
      "after autoreduce\n",
      "after complete system\n",
      "after conditions\n",
      "after reduced []\n"
     ]
    },
    {
     "data": {
      "text/latex": [
       "$\\displaystyle  z_{(x, 1)}[], []$"
      ],
      "text/plain": [
       "<IPython.core.display.Math object>"
      ]
     },
     "metadata": {},
     "output_type": "display_data"
    },
    {
     "data": {
      "text/latex": [
       "$\\displaystyle  z_{(y, 1)}[], []$"
      ],
      "text/plain": [
       "<IPython.core.display.Math object>"
      ]
     },
     "metadata": {},
     "output_type": "display_data"
    },
    {
     "data": {
      "text/latex": [
       "$\\displaystyle  w_{(x, 1)}[], []$"
      ],
      "text/plain": [
       "<IPython.core.display.Math object>"
      ]
     },
     "metadata": {},
     "output_type": "display_data"
    },
    {
     "data": {
      "text/latex": [
       "$\\displaystyle  w_{(y, 1)}[], []$"
      ],
      "text/plain": [
       "<IPython.core.display.Math object>"
      ]
     },
     "metadata": {},
     "output_type": "display_data"
    },
    {
     "data": {
      "text/latex": [
       "$\\displaystyle  w[], []$"
      ],
      "text/plain": [
       "<IPython.core.display.Math object>"
      ]
     },
     "metadata": {},
     "output_type": "display_data"
    },
    {
     "name": "stdout",
     "output_type": "stream",
     "text": [
      "0.25577831268310547\n",
      "======================================================================================================================================================\n",
      "This is where we start\n",
      "D(z(x, y), y, y) + (1/(2*y)) * D(z(x, y), y)\n",
      "D(w(x, y), x, x) + (4*y**2) * D(w(x, y), y) + (-8*y**2) * D(z(x, y), x) + (-8*y) * w(x, y)\n",
      "D(w(x, y), x, y) + (-1/2) * D(z(x, y), (x, 2)) + (-1/(2*y)) * D(w(x, y), x) + (-6*y**2) * D(z(x, y), y)\n",
      "D(w(x, y), y, y) + (-2) * D(z(x, y), x, y) + (-1/(2*y)) * D(w(x, y), y) + (1/(2*y**2)) * w(x, y)\n",
      "after autoreduce\n",
      "after complete system\n",
      "after conditions\n",
      "after reduced [D(z(x, y), (x, 3)) + (12*y**2) * D(z(x, y), x, y) + (-24*y) * D(z(x, y), x) + (-12) * w(x, y), D(z(x, y), (x, 2), y) + (-6*y) * D(z(x, y), y)]\n",
      "This is where we start\n",
      "D(z(x, y), y, y) + (1/(2*y)) * D(z(x, y), y)\n",
      "D(w(x, y), x, x) + (4*y**2) * D(w(x, y), y) + (-8*y**2) * D(z(x, y), x) + (-8*y) * w(x, y)\n",
      "D(w(x, y), x, y) + (-1/2) * D(z(x, y), (x, 2)) + (-1/(2*y)) * D(w(x, y), x) + (-6*y**2) * D(z(x, y), y)\n",
      "D(w(x, y), y, y) + (-2) * D(z(x, y), x, y) + (-1/(2*y)) * D(w(x, y), y) + (1/(2*y**2)) * w(x, y)\n",
      "D(z(x, y), (x, 3)) + (12*y**2) * D(z(x, y), x, y) + (-24*y) * D(z(x, y), x) + (-12) * w(x, y)\n",
      "D(z(x, y), (x, 2), y) + (-6*y) * D(z(x, y), y)\n",
      "after autoreduce\n",
      "after complete system\n",
      "after conditions\n",
      "after reduced [D(z(x, y), (x, 3)) + (12*y**2) * D(z(x, y), x, y) + (-24*y) * D(z(x, y), x) + (-12) * w(x, y), D(z(x, y), (x, 2), y) + (-6*y) * D(z(x, y), y), D(w(x, y), y) + (2) * D(z(x, y), x)]\n",
      "This is where we start\n",
      "D(w(x, y), y) + (2) * D(z(x, y), x)\n",
      "D(z(x, y), y, y) + (1/(2*y)) * D(z(x, y), y)\n",
      "D(w(x, y), x, x) + (4*y**2) * D(w(x, y), y) + (-8*y**2) * D(z(x, y), x) + (-8*y) * w(x, y)\n",
      "D(w(x, y), x, y) + (-1/2) * D(z(x, y), (x, 2)) + (-1/(2*y)) * D(w(x, y), x) + (-6*y**2) * D(z(x, y), y)\n",
      "D(w(x, y), y, y) + (-2) * D(z(x, y), x, y) + (-1/(2*y)) * D(w(x, y), y) + (1/(2*y**2)) * w(x, y)\n",
      "D(z(x, y), (x, 3)) + (12*y**2) * D(z(x, y), x, y) + (-24*y) * D(z(x, y), x) + (-12) * w(x, y)\n",
      "D(z(x, y), (x, 2), y) + (-6*y) * D(z(x, y), y)\n",
      "after autoreduce\n",
      "after complete system\n",
      "after conditions\n",
      "after reduced [D(w(x, y), y) + (-1/y) * w(x, y), D(w(x, y), x)]\n",
      "This is where we start\n",
      "D(z(x, y), x) + (1/(2*y)) * w(x, y)\n",
      "D(z(x, y), y)\n",
      "D(w(x, y), x)\n",
      "D(w(x, y), y) + (-1/y) * w(x, y)\n",
      "after autoreduce\n",
      "after complete system\n",
      "after conditions\n",
      "after reduced [D(w(x, y), y) + (-1/y) * w(x, y), D(w(x, y), x)]\n"
     ]
    },
    {
     "data": {
      "text/latex": [
       "$\\displaystyle  z_{(x, 1)} + \\frac{1}{2 y} w[], []$"
      ],
      "text/plain": [
       "<IPython.core.display.Math object>"
      ]
     },
     "metadata": {},
     "output_type": "display_data"
    },
    {
     "data": {
      "text/latex": [
       "$\\displaystyle  z_{(y, 1)}[], []$"
      ],
      "text/plain": [
       "<IPython.core.display.Math object>"
      ]
     },
     "metadata": {},
     "output_type": "display_data"
    },
    {
     "data": {
      "text/latex": [
       "$\\displaystyle  w_{(x, 1)}[], []$"
      ],
      "text/plain": [
       "<IPython.core.display.Math object>"
      ]
     },
     "metadata": {},
     "output_type": "display_data"
    },
    {
     "data": {
      "text/latex": [
       "$\\displaystyle  w_{(y, 1)}- \\frac{1}{y} w[], []$"
      ],
      "text/plain": [
       "<IPython.core.display.Math object>"
      ]
     },
     "metadata": {},
     "output_type": "display_data"
    },
    {
     "name": "stdout",
     "output_type": "stream",
     "text": [
      "0.21870994567871094\n",
      "======================================================================================================================================================\n",
      "This is where we start\n",
      "D(w(x, y), x, x) + (-8*y**2) * D(z(x, y), x) + (4*y**2) * D(w(x, y), y) + (-8*y) * w(x, y)\n",
      "D(z(x, y), (x, 2)) + (-2) * D(w(x, y), x, y) + (12*y**2) * D(z(x, y), y) + (1/y) * D(w(x, y), x)\n",
      "D(z(x, y), x, y) + (-1/2) * D(w(x, y), y, y) + (1/(4*y)) * D(w(x, y), y) + (-1/(4*y**2)) * w(x, y)\n",
      "D(z(x, y), y, y) + (1/(2*y)) * D(z(x, y), y)\n",
      "after autoreduce\n",
      "after complete system\n",
      "after conditions\n",
      "after reduced [D(w(x, y), x, y, y) + (-1/(2*y)) * D(w(x, y), x, y) + (-12*y) * D(z(x, y), y) + (1/(2*y**2)) * D(w(x, y), x)]\n",
      "This is where we start\n",
      "D(w(x, y), x, x) + (-8*y**2) * D(z(x, y), x) + (4*y**2) * D(w(x, y), y) + (-8*y) * w(x, y)\n",
      "D(z(x, y), (x, 2)) + (-2) * D(w(x, y), x, y) + (12*y**2) * D(z(x, y), y) + (1/y) * D(w(x, y), x)\n",
      "D(z(x, y), x, y) + (-1/2) * D(w(x, y), y, y) + (1/(4*y)) * D(w(x, y), y) + (-1/(4*y**2)) * w(x, y)\n",
      "D(z(x, y), y, y) + (1/(2*y)) * D(z(x, y), y)\n",
      "D(w(x, y), x, y, y) + (-1/(2*y)) * D(w(x, y), x, y) + (-12*y) * D(z(x, y), y) + (1/(2*y**2)) * D(w(x, y), x)\n",
      "after autoreduce\n",
      "after complete system\n",
      "after conditions\n",
      "after reduced [D(w(x, y), x, y, y) + (-1/(2*y)) * D(w(x, y), x, y) + (-12*y) * D(z(x, y), y) + (1/(2*y**2)) * D(w(x, y), x)]\n"
     ]
    },
    {
     "data": {
      "text/latex": [
       "$\\displaystyle  w_{x,x}- 8 y^{2} z_{(x, 1)} + 4 y^{2} w_{(y, 1)}- 8 y w[], []$"
      ],
      "text/plain": [
       "<IPython.core.display.Math object>"
      ]
     },
     "metadata": {},
     "output_type": "display_data"
    },
    {
     "data": {
      "text/latex": [
       "$\\displaystyle  z_{(x, 2)}-2 w_{x,y} + 12 y^{2} z_{(y, 1)} + \\frac{1}{y} w_{(x, 1)}[], []$"
      ],
      "text/plain": [
       "<IPython.core.display.Math object>"
      ]
     },
     "metadata": {},
     "output_type": "display_data"
    },
    {
     "data": {
      "text/latex": [
       "$\\displaystyle  z_{(x, 1),(y, 1)}- \\frac{1}{2} w_{y,y} + \\frac{1}{4 y} w_{(y, 1)}- \\frac{1}{4 y^{2}} w[], []$"
      ],
      "text/plain": [
       "<IPython.core.display.Math object>"
      ]
     },
     "metadata": {},
     "output_type": "display_data"
    },
    {
     "data": {
      "text/latex": [
       "$\\displaystyle  z_{y,y} + \\frac{1}{2 y} z_{(y, 1)}[], []$"
      ],
      "text/plain": [
       "<IPython.core.display.Math object>"
      ]
     },
     "metadata": {},
     "output_type": "display_data"
    },
    {
     "data": {
      "text/latex": [
       "$\\displaystyle  w_{x,y,y}- \\frac{1}{2 y} w_{(x, 1),(y, 1)}- 12 y z_{(y, 1)} + \\frac{1}{2 y^{2}} w_{(x, 1)}[], []$"
      ],
      "text/plain": [
       "<IPython.core.display.Math object>"
      ]
     },
     "metadata": {},
     "output_type": "display_data"
    },
    {
     "name": "stdout",
     "output_type": "stream",
     "text": [
      "0.318875789642334\n",
      "======================================================================================================================================================\n"
     ]
    }
   ],
   "source": [
    "start=time.time()\n",
    "ordering = Mgrevlex\n",
    "jb=Janet_Basis(system_2_25, [w, z], [x,y], ordering)\n",
    "jb.show(rich=True, short=False)\n",
    "print(time.time() - start)\n",
    "print(\"=\"*150)\n",
    "start=time.time()\n",
    "jb=Janet_Basis(system_2_25, [z, w], [x,y], ordering)\n",
    "jb.show(rich=True, short=False)\n",
    "print(time.time() - start)\n",
    "print(\"=\"*150)\n",
    "start=time.time()\n",
    "jb=Janet_Basis(system_2_25, [w, z], [y, x], ordering)\n",
    "jb.show(rich=True, short=False)\n",
    "print(time.time() - start)\n",
    "print(\"=\"*150)\n",
    "jb=Janet_Basis(system_2_25, [z, w], [y, x], ordering)\n",
    "jb.show(rich=True, short=False)\n",
    "print(time.time() - start)\n",
    "print(\"=\"*150)\n",
    "\n"
   ]
  },
  {
   "cell_type": "code",
   "execution_count": 7,
   "id": "900edc2a-aa03-4ce7-a0b2-2459065ecfcf",
   "metadata": {},
   "outputs": [
    {
     "name": "stdout",
     "output_type": "stream",
     "text": [
      "This is where we start\n",
      "D(z(x, y), y, y) + (1/(2*y)) * D(z(x, y), y)\n",
      "D(w(x, y), y, y) + (-2) * D(z(x, y), x, y) + (-1/(2*y)) * D(w(x, y), y) + (1/(2*y**2)) * w(x, y)\n",
      "D(w(x, y), x, y) + (-1/2) * D(z(x, y), (x, 2)) + (-1/(2*y)) * D(w(x, y), x) + (-6*y**2) * D(z(x, y), y)\n",
      "D(w(x, y), x, x) + (4*y**2) * D(w(x, y), y) + (-8*y**2) * D(z(x, y), x) + (-8*y) * w(x, y)\n",
      "after autoreduce\n",
      "after complete system\n",
      "after conditions\n",
      "after reduced [D(z(x, y), (x, 2), y) + (-6*y) * D(z(x, y), y), D(z(x, y), (x, 3)) + (12*y**2) * D(z(x, y), x, y) + (-24*y) * D(z(x, y), x) + (-12) * w(x, y)]\n",
      "This is where we start\n",
      "D(z(x, y), y, y) + (1/(2*y)) * D(z(x, y), y)\n",
      "D(w(x, y), y, y) + (-2) * D(z(x, y), x, y) + (-1/(2*y)) * D(w(x, y), y) + (1/(2*y**2)) * w(x, y)\n",
      "D(w(x, y), x, y) + (-1/2) * D(z(x, y), (x, 2)) + (-1/(2*y)) * D(w(x, y), x) + (-6*y**2) * D(z(x, y), y)\n",
      "D(w(x, y), x, x) + (4*y**2) * D(w(x, y), y) + (-8*y**2) * D(z(x, y), x) + (-8*y) * w(x, y)\n",
      "D(z(x, y), (x, 2), y) + (-6*y) * D(z(x, y), y)\n",
      "D(z(x, y), (x, 3)) + (12*y**2) * D(z(x, y), x, y) + (-24*y) * D(z(x, y), x) + (-12) * w(x, y)\n",
      "after autoreduce\n",
      "after complete system\n",
      "after conditions\n",
      "after reduced [D(z(x, y), (x, 2), y) + (-6*y) * D(z(x, y), y), D(z(x, y), (x, 3)) + (12*y**2) * D(z(x, y), x, y) + (-24*y) * D(z(x, y), x) + (-12) * w(x, y), D(w(x, y), y) + (2) * D(z(x, y), x)]\n",
      "This is where we start\n",
      "D(w(x, y), y) + (2) * D(z(x, y), x)\n",
      "D(z(x, y), y, y) + (1/(2*y)) * D(z(x, y), y)\n",
      "D(w(x, y), y, y) + (-2) * D(z(x, y), x, y) + (-1/(2*y)) * D(w(x, y), y) + (1/(2*y**2)) * w(x, y)\n",
      "D(w(x, y), x, y) + (-1/2) * D(z(x, y), (x, 2)) + (-1/(2*y)) * D(w(x, y), x) + (-6*y**2) * D(z(x, y), y)\n",
      "D(w(x, y), x, x) + (4*y**2) * D(w(x, y), y) + (-8*y**2) * D(z(x, y), x) + (-8*y) * w(x, y)\n",
      "D(z(x, y), (x, 2), y) + (-6*y) * D(z(x, y), y)\n",
      "D(z(x, y), (x, 3)) + (12*y**2) * D(z(x, y), x, y) + (-24*y) * D(z(x, y), x) + (-12) * w(x, y)\n",
      "D(z(x, y), (x, 2), (y, 2)) + (-6*y) * D(z(x, y), (y, 2)) + (-6) * D(z(x, y), y)\n",
      "D(z(x, y), (x, 2), (y, 3)) + (-6*y) * D(z(x, y), (y, 3)) + (-12) * D(z(x, y), (y, 2))\n",
      "after autoreduce\n",
      "after complete system\n",
      "after conditions\n",
      "after reduced [D(w(x, y), y) + (-1/y) * w(x, y), D(w(x, y), x)]\n",
      "This is where we start\n",
      "D(z(x, y), y)\n",
      "D(z(x, y), x) + (1/(2*y)) * w(x, y)\n",
      "D(w(x, y), y) + (-1/y) * w(x, y)\n",
      "D(w(x, y), x)\n",
      "after autoreduce\n",
      "after complete system\n",
      "after conditions\n",
      "after reduced [D(w(x, y), y) + (-1/y) * w(x, y), D(w(x, y), x)]\n"
     ]
    },
    {
     "data": {
      "text/latex": [
       "$\\displaystyle  z_{(y, 1)}[], []$"
      ],
      "text/plain": [
       "<IPython.core.display.Math object>"
      ]
     },
     "metadata": {},
     "output_type": "display_data"
    },
    {
     "data": {
      "text/latex": [
       "$\\displaystyle  z_{(x, 1)} + \\frac{1}{2 y} w[], []$"
      ],
      "text/plain": [
       "<IPython.core.display.Math object>"
      ]
     },
     "metadata": {},
     "output_type": "display_data"
    },
    {
     "data": {
      "text/latex": [
       "$\\displaystyle  w_{(y, 1)}- \\frac{1}{y} w[], []$"
      ],
      "text/plain": [
       "<IPython.core.display.Math object>"
      ]
     },
     "metadata": {},
     "output_type": "display_data"
    },
    {
     "data": {
      "text/latex": [
       "$\\displaystyle  w_{(x, 1)}[], []$"
      ],
      "text/plain": [
       "<IPython.core.display.Math object>"
      ]
     },
     "metadata": {},
     "output_type": "display_data"
    },
    {
     "name": "stdout",
     "output_type": "stream",
     "text": [
      "0.28067779541015625\n",
      "======================================================================================================================================================\n",
      "This is where we start\n",
      "D(w(x, y), x, x) + (-8*y**2) * D(z(x, y), x) + (4*y**2) * D(w(x, y), y) + (-8*y) * w(x, y)\n",
      "D(z(x, y), y, y) + (1/(2*y)) * D(z(x, y), y)\n",
      "D(z(x, y), x, y) + (-1/2) * D(w(x, y), y, y) + (1/(4*y)) * D(w(x, y), y) + (-1/(4*y**2)) * w(x, y)\n",
      "D(z(x, y), (x, 2)) + (-2) * D(w(x, y), x, y) + (12*y**2) * D(z(x, y), y) + (1/y) * D(w(x, y), x)\n",
      "after autoreduce\n",
      "after complete system\n",
      "after conditions\n",
      "after reduced [D(w(x, y), x, y, y) + (-1/(2*y)) * D(w(x, y), x, y) + (-12*y) * D(z(x, y), y) + (1/(2*y**2)) * D(w(x, y), x)]\n",
      "This is where we start\n",
      "D(w(x, y), x, x) + (-8*y**2) * D(z(x, y), x) + (4*y**2) * D(w(x, y), y) + (-8*y) * w(x, y)\n",
      "D(z(x, y), y, y) + (1/(2*y)) * D(z(x, y), y)\n",
      "D(z(x, y), x, y) + (-1/2) * D(w(x, y), y, y) + (1/(4*y)) * D(w(x, y), y) + (-1/(4*y**2)) * w(x, y)\n",
      "D(z(x, y), (x, 2)) + (-2) * D(w(x, y), x, y) + (12*y**2) * D(z(x, y), y) + (1/y) * D(w(x, y), x)\n",
      "D(w(x, y), x, y, y) + (-1/(2*y)) * D(w(x, y), x, y) + (-12*y) * D(z(x, y), y) + (1/(2*y**2)) * D(w(x, y), x)\n",
      "D(z(x, y), x, (y, 2)) + (-1/2) * D(w(x, y), y, y, y) + (1/(4*y)) * D(w(x, y), (y, 2)) + (-1/(2*y**2)) * D(w(x, y), y) + (1/(2*y**3)) * w(x, y)\n",
      "after autoreduce\n",
      "after complete system\n",
      "after conditions\n",
      "after reduced [D(z(x, y), y), D(z(x, y), x) + (1/2) * D(w(x, y), y) + (-y**2*(-16 - 1/y**3)/3) * w(x, y), D(w(x, y), x, y, y) + (-1/(2*y)) * D(w(x, y), x, y) + (-12*y) * D(z(x, y), y) + (1/(2*y**2)) * D(w(x, y), x)]\n",
      "This is where we start\n",
      "D(z(x, y), y)\n",
      "D(z(x, y), x) + (1/2) * D(w(x, y), y) + (-y**2*(-16 - 1/y**3)/3) * w(x, y)\n",
      "D(w(x, y), x, x) + (-8*y**2) * D(z(x, y), x) + (4*y**2) * D(w(x, y), y) + (-8*y) * w(x, y)\n",
      "D(z(x, y), y, y) + (1/(2*y)) * D(z(x, y), y)\n",
      "D(z(x, y), x, y) + (-1/2) * D(w(x, y), y, y) + (1/(4*y)) * D(w(x, y), y) + (-1/(4*y**2)) * w(x, y)\n",
      "D(z(x, y), (x, 2)) + (-2) * D(w(x, y), x, y) + (12*y**2) * D(z(x, y), y) + (1/y) * D(w(x, y), x)\n",
      "D(w(x, y), y, y, y) + (3/(4*y**2)) * D(w(x, y), y) + (-3/(4*y**3)) * w(x, y)\n",
      "D(w(x, y), x, y, y) + (-1/(2*y)) * D(w(x, y), x, y) + (-12*y) * D(z(x, y), y) + (1/(2*y**2)) * D(w(x, y), x)\n",
      "D(w(x, y), x, x, y) + (-8*y**2) * D(z(x, y), x, y) + (4*y**2) * D(w(x, y), (y, 2)) + (-16*y) * D(z(x, y), x) + (-8) * w(x, y)\n",
      "D(z(x, y), x, (y, 2)) + (-1/2) * D(w(x, y), y, y, y) + (1/(4*y)) * D(w(x, y), (y, 2)) + (-1/(2*y**2)) * D(w(x, y), y) + (1/(2*y**3)) * w(x, y)\n",
      "after autoreduce\n",
      "after complete system\n",
      "after conditions\n",
      "after reduced []\n"
     ]
    },
    {
     "data": {
      "text/latex": [
       "$\\displaystyle  z_{(x, 1)}[], []$"
      ],
      "text/plain": [
       "<IPython.core.display.Math object>"
      ]
     },
     "metadata": {},
     "output_type": "display_data"
    },
    {
     "data": {
      "text/latex": [
       "$\\displaystyle  z_{(y, 1)}[], []$"
      ],
      "text/plain": [
       "<IPython.core.display.Math object>"
      ]
     },
     "metadata": {},
     "output_type": "display_data"
    },
    {
     "data": {
      "text/latex": [
       "$\\displaystyle  w_{(x, 1)}[], []$"
      ],
      "text/plain": [
       "<IPython.core.display.Math object>"
      ]
     },
     "metadata": {},
     "output_type": "display_data"
    },
    {
     "data": {
      "text/latex": [
       "$\\displaystyle  w_{(y, 1)}[], []$"
      ],
      "text/plain": [
       "<IPython.core.display.Math object>"
      ]
     },
     "metadata": {},
     "output_type": "display_data"
    },
    {
     "data": {
      "text/latex": [
       "$\\displaystyle  w[], []$"
      ],
      "text/plain": [
       "<IPython.core.display.Math object>"
      ]
     },
     "metadata": {},
     "output_type": "display_data"
    },
    {
     "name": "stdout",
     "output_type": "stream",
     "text": [
      "0.24448633193969727\n",
      "======================================================================================================================================================\n",
      "This is where we start\n",
      "D(z(x, y), y, y) + (1/(2*y)) * D(z(x, y), y)\n",
      "D(w(x, y), x, x) + (4*y**2) * D(w(x, y), y) + (-8*y**2) * D(z(x, y), x) + (-8*y) * w(x, y)\n",
      "D(w(x, y), x, y) + (-1/2) * D(z(x, y), (x, 2)) + (-1/(2*y)) * D(w(x, y), x) + (-6*y**2) * D(z(x, y), y)\n",
      "D(w(x, y), y, y) + (-2) * D(z(x, y), x, y) + (-1/(2*y)) * D(w(x, y), y) + (1/(2*y**2)) * w(x, y)\n",
      "after autoreduce\n",
      "after complete system\n",
      "after conditions\n",
      "after reduced [D(z(x, y), (x, 3)) + (12*y**2) * D(z(x, y), x, y) + (-24*y) * D(z(x, y), x) + (-12) * w(x, y), D(z(x, y), (x, 2), y) + (-6*y) * D(z(x, y), y)]\n",
      "This is where we start\n",
      "D(z(x, y), y, y) + (1/(2*y)) * D(z(x, y), y)\n",
      "D(w(x, y), x, x) + (4*y**2) * D(w(x, y), y) + (-8*y**2) * D(z(x, y), x) + (-8*y) * w(x, y)\n",
      "D(w(x, y), x, y) + (-1/2) * D(z(x, y), (x, 2)) + (-1/(2*y)) * D(w(x, y), x) + (-6*y**2) * D(z(x, y), y)\n",
      "D(w(x, y), y, y) + (-2) * D(z(x, y), x, y) + (-1/(2*y)) * D(w(x, y), y) + (1/(2*y**2)) * w(x, y)\n",
      "D(z(x, y), (x, 3)) + (12*y**2) * D(z(x, y), x, y) + (-24*y) * D(z(x, y), x) + (-12) * w(x, y)\n",
      "D(z(x, y), (x, 2), y) + (-6*y) * D(z(x, y), y)\n",
      "after autoreduce\n",
      "after complete system\n",
      "after conditions\n",
      "after reduced [D(z(x, y), (x, 3)) + (12*y**2) * D(z(x, y), x, y) + (-24*y) * D(z(x, y), x) + (-12) * w(x, y), D(z(x, y), (x, 2), y) + (-6*y) * D(z(x, y), y), D(w(x, y), y) + (2) * D(z(x, y), x)]\n",
      "This is where we start\n",
      "D(w(x, y), y) + (2) * D(z(x, y), x)\n",
      "D(z(x, y), y, y) + (1/(2*y)) * D(z(x, y), y)\n",
      "D(w(x, y), x, x) + (4*y**2) * D(w(x, y), y) + (-8*y**2) * D(z(x, y), x) + (-8*y) * w(x, y)\n",
      "D(w(x, y), x, y) + (-1/2) * D(z(x, y), (x, 2)) + (-1/(2*y)) * D(w(x, y), x) + (-6*y**2) * D(z(x, y), y)\n",
      "D(w(x, y), y, y) + (-2) * D(z(x, y), x, y) + (-1/(2*y)) * D(w(x, y), y) + (1/(2*y**2)) * w(x, y)\n",
      "D(z(x, y), (x, 3)) + (12*y**2) * D(z(x, y), x, y) + (-24*y) * D(z(x, y), x) + (-12) * w(x, y)\n",
      "D(z(x, y), (x, 2), y) + (-6*y) * D(z(x, y), y)\n",
      "after autoreduce\n",
      "after complete system\n",
      "after conditions\n",
      "after reduced [D(w(x, y), y) + (-1/y) * w(x, y), D(w(x, y), x)]\n",
      "This is where we start\n",
      "D(z(x, y), x) + (1/(2*y)) * w(x, y)\n",
      "D(z(x, y), y)\n",
      "D(w(x, y), x)\n",
      "D(w(x, y), y) + (-1/y) * w(x, y)\n",
      "after autoreduce\n",
      "after complete system\n",
      "after conditions\n",
      "after reduced [D(w(x, y), y) + (-1/y) * w(x, y), D(w(x, y), x)]\n"
     ]
    },
    {
     "data": {
      "text/latex": [
       "$\\displaystyle  z_{(x, 1)} + \\frac{1}{2 y} w[], []$"
      ],
      "text/plain": [
       "<IPython.core.display.Math object>"
      ]
     },
     "metadata": {},
     "output_type": "display_data"
    },
    {
     "data": {
      "text/latex": [
       "$\\displaystyle  z_{(y, 1)}[], []$"
      ],
      "text/plain": [
       "<IPython.core.display.Math object>"
      ]
     },
     "metadata": {},
     "output_type": "display_data"
    },
    {
     "data": {
      "text/latex": [
       "$\\displaystyle  w_{(x, 1)}[], []$"
      ],
      "text/plain": [
       "<IPython.core.display.Math object>"
      ]
     },
     "metadata": {},
     "output_type": "display_data"
    },
    {
     "data": {
      "text/latex": [
       "$\\displaystyle  w_{(y, 1)}- \\frac{1}{y} w[], []$"
      ],
      "text/plain": [
       "<IPython.core.display.Math object>"
      ]
     },
     "metadata": {},
     "output_type": "display_data"
    },
    {
     "name": "stdout",
     "output_type": "stream",
     "text": [
      "0.2642252445220947\n",
      "======================================================================================================================================================\n",
      "This is where we start\n",
      "D(w(x, y), x, x) + (-8*y**2) * D(z(x, y), x) + (4*y**2) * D(w(x, y), y) + (-8*y) * w(x, y)\n",
      "D(z(x, y), (x, 2)) + (-2) * D(w(x, y), x, y) + (12*y**2) * D(z(x, y), y) + (1/y) * D(w(x, y), x)\n",
      "D(z(x, y), x, y) + (-1/2) * D(w(x, y), y, y) + (1/(4*y)) * D(w(x, y), y) + (-1/(4*y**2)) * w(x, y)\n",
      "D(z(x, y), y, y) + (1/(2*y)) * D(z(x, y), y)\n",
      "after autoreduce\n",
      "after complete system\n",
      "after conditions\n",
      "after reduced [D(w(x, y), x, y, y) + (-1/(2*y)) * D(w(x, y), x, y) + (-12*y) * D(z(x, y), y) + (1/(2*y**2)) * D(w(x, y), x)]\n",
      "This is where we start\n",
      "D(w(x, y), x, x) + (-8*y**2) * D(z(x, y), x) + (4*y**2) * D(w(x, y), y) + (-8*y) * w(x, y)\n",
      "D(z(x, y), (x, 2)) + (-2) * D(w(x, y), x, y) + (12*y**2) * D(z(x, y), y) + (1/y) * D(w(x, y), x)\n",
      "D(z(x, y), x, y) + (-1/2) * D(w(x, y), y, y) + (1/(4*y)) * D(w(x, y), y) + (-1/(4*y**2)) * w(x, y)\n",
      "D(z(x, y), y, y) + (1/(2*y)) * D(z(x, y), y)\n",
      "D(w(x, y), x, y, y) + (-1/(2*y)) * D(w(x, y), x, y) + (-12*y) * D(z(x, y), y) + (1/(2*y**2)) * D(w(x, y), x)\n",
      "after autoreduce\n",
      "after complete system\n",
      "after conditions\n",
      "after reduced [D(w(x, y), x, y, y) + (-1/(2*y)) * D(w(x, y), x, y) + (-12*y) * D(z(x, y), y) + (1/(2*y**2)) * D(w(x, y), x)]\n"
     ]
    },
    {
     "data": {
      "text/latex": [
       "$\\displaystyle  w_{x,x}- 8 y^{2} z_{(x, 1)} + 4 y^{2} w_{(y, 1)}- 8 y w[], []$"
      ],
      "text/plain": [
       "<IPython.core.display.Math object>"
      ]
     },
     "metadata": {},
     "output_type": "display_data"
    },
    {
     "data": {
      "text/latex": [
       "$\\displaystyle  z_{(x, 2)}-2 w_{x,y} + 12 y^{2} z_{(y, 1)} + \\frac{1}{y} w_{(x, 1)}[], []$"
      ],
      "text/plain": [
       "<IPython.core.display.Math object>"
      ]
     },
     "metadata": {},
     "output_type": "display_data"
    },
    {
     "data": {
      "text/latex": [
       "$\\displaystyle  z_{(x, 1),(y, 1)}- \\frac{1}{2} w_{y,y} + \\frac{1}{4 y} w_{(y, 1)}- \\frac{1}{4 y^{2}} w[], []$"
      ],
      "text/plain": [
       "<IPython.core.display.Math object>"
      ]
     },
     "metadata": {},
     "output_type": "display_data"
    },
    {
     "data": {
      "text/latex": [
       "$\\displaystyle  z_{y,y} + \\frac{1}{2 y} z_{(y, 1)}[], []$"
      ],
      "text/plain": [
       "<IPython.core.display.Math object>"
      ]
     },
     "metadata": {},
     "output_type": "display_data"
    },
    {
     "data": {
      "text/latex": [
       "$\\displaystyle  w_{x,y,y}- \\frac{1}{2 y} w_{(x, 1),(y, 1)}- 12 y z_{(y, 1)} + \\frac{1}{2 y^{2}} w_{(x, 1)}[], []$"
      ],
      "text/plain": [
       "<IPython.core.display.Math object>"
      ]
     },
     "metadata": {},
     "output_type": "display_data"
    },
    {
     "name": "stdout",
     "output_type": "stream",
     "text": [
      "0.35819530487060547\n",
      "======================================================================================================================================================\n"
     ]
    }
   ],
   "source": [
    "start=time.time()\n",
    "ordering = Mgrlex\n",
    "jb=Janet_Basis(system_2_25, [w, z], [x,y], ordering)\n",
    "jb.show(rich=True, short=False)\n",
    "print(time.time() - start)\n",
    "print(\"=\"*150)\n",
    "start=time.time()\n",
    "jb=Janet_Basis(system_2_25, [z, w], [x,y], ordering)\n",
    "jb.show(rich=True, short=False)\n",
    "print(time.time() - start)\n",
    "print(\"=\"*150)\n",
    "start=time.time()\n",
    "jb=Janet_Basis(system_2_25, [w, z], [y, x], ordering)\n",
    "jb.show(rich=True, short=False)\n",
    "print(time.time() - start)\n",
    "print(\"=\"*150)\n",
    "jb=Janet_Basis(system_2_25, [z, w], [y, x], ordering)\n",
    "jb.show(rich=True, short=False)\n",
    "print(time.time() - start)\n",
    "print(\"=\"*150)"
   ]
  },
  {
   "cell_type": "code",
   "execution_count": 8,
   "id": "653ad4ca-120d-4245-b456-0da31aac39a6",
   "metadata": {
    "editable": true,
    "slideshow": {
     "slide_type": ""
    },
    "tags": []
   },
   "outputs": [
    {
     "name": "stdout",
     "output_type": "stream",
     "text": [
      "This is where we start\n",
      "D(z(x, y), y, y) + (1/(2*y)) * D(z(x, y), y)\n",
      "D(w(x, y), y, y) + (-1/(2*y)) * D(w(x, y), y) + (1/(2*y**2)) * w(x, y) + (-2) * D(z(x, y), x, y)\n",
      "D(w(x, y), x, y) + (-1/(2*y)) * D(w(x, y), x) + (-1/2) * D(z(x, y), (x, 2)) + (-6*y**2) * D(z(x, y), y)\n",
      "D(w(x, y), x, x) + (4*y**2) * D(w(x, y), y) + (-8*y) * w(x, y) + (-8*y**2) * D(z(x, y), x)\n",
      "after autoreduce\n",
      "after complete system\n",
      "after conditions\n",
      "after reduced [D(z(x, y), (x, 2), y) + (-6*y) * D(z(x, y), y), w(x, y) + (-1/12) * D(z(x, y), (x, 3)) + (-y**2) * D(z(x, y), x, y) + (2*y) * D(z(x, y), x)]\n",
      "This is where we start\n",
      "D(z(x, y), y, y) + (1/(2*y)) * D(z(x, y), y)\n",
      "D(z(x, y), (x, 2), y) + (-6*y) * D(z(x, y), y)\n",
      "w(x, y) + (-1/12) * D(z(x, y), (x, 3)) + (-y**2) * D(z(x, y), x, y) + (2*y) * D(z(x, y), x)\n",
      "D(w(x, y), y, y) + (-1/(2*y)) * D(w(x, y), y) + (1/(2*y**2)) * w(x, y) + (-2) * D(z(x, y), x, y)\n",
      "D(w(x, y), x, y) + (-1/(2*y)) * D(w(x, y), x) + (-1/2) * D(z(x, y), (x, 2)) + (-6*y**2) * D(z(x, y), y)\n",
      "D(w(x, y), x, x) + (4*y**2) * D(w(x, y), y) + (-8*y) * w(x, y) + (-8*y**2) * D(z(x, y), x)\n",
      "after autoreduce\n",
      "after complete system\n",
      "after conditions\n",
      "after reduced []\n"
     ]
    },
    {
     "data": {
      "text/latex": [
       "$\\displaystyle  w + 2 y z_{(x, 1)}[], []$"
      ],
      "text/plain": [
       "<IPython.core.display.Math object>"
      ]
     },
     "metadata": {},
     "output_type": "display_data"
    },
    {
     "data": {
      "text/latex": [
       "$\\displaystyle  z_{(x, 3)}[], []$"
      ],
      "text/plain": [
       "<IPython.core.display.Math object>"
      ]
     },
     "metadata": {},
     "output_type": "display_data"
    },
    {
     "data": {
      "text/latex": [
       "$\\displaystyle  z_{(x, 2)}[], []$"
      ],
      "text/plain": [
       "<IPython.core.display.Math object>"
      ]
     },
     "metadata": {},
     "output_type": "display_data"
    },
    {
     "data": {
      "text/latex": [
       "$\\displaystyle  z_{(x, 1),(y, 3)}[], []$"
      ],
      "text/plain": [
       "<IPython.core.display.Math object>"
      ]
     },
     "metadata": {},
     "output_type": "display_data"
    },
    {
     "data": {
      "text/latex": [
       "$\\displaystyle  z_{(x, 1),(y, 2)}[], []$"
      ],
      "text/plain": [
       "<IPython.core.display.Math object>"
      ]
     },
     "metadata": {},
     "output_type": "display_data"
    },
    {
     "data": {
      "text/latex": [
       "$\\displaystyle  z_{(x, 1),(y, 1)}[], []$"
      ],
      "text/plain": [
       "<IPython.core.display.Math object>"
      ]
     },
     "metadata": {},
     "output_type": "display_data"
    },
    {
     "data": {
      "text/latex": [
       "$\\displaystyle  z_{(y, 3)}[], []$"
      ],
      "text/plain": [
       "<IPython.core.display.Math object>"
      ]
     },
     "metadata": {},
     "output_type": "display_data"
    },
    {
     "data": {
      "text/latex": [
       "$\\displaystyle  z_{(y, 2)}[], []$"
      ],
      "text/plain": [
       "<IPython.core.display.Math object>"
      ]
     },
     "metadata": {},
     "output_type": "display_data"
    },
    {
     "data": {
      "text/latex": [
       "$\\displaystyle  z_{(y, 1)}[], []$"
      ],
      "text/plain": [
       "<IPython.core.display.Math object>"
      ]
     },
     "metadata": {},
     "output_type": "display_data"
    },
    {
     "name": "stdout",
     "output_type": "stream",
     "text": [
      "0.3394451141357422\n",
      "======================================================================================================================================================\n",
      "This is where we start\n",
      "D(z(x, y), y, y) + (1/(2*y)) * D(z(x, y), y)\n",
      "D(z(x, y), x) + (-1/(8*y**2)) * D(w(x, y), x, x) + (-1/2) * D(w(x, y), y) + (1/y) * w(x, y)\n",
      "D(z(x, y), x, y) + (-1/2) * D(w(x, y), y, y) + (1/(4*y)) * D(w(x, y), y) + (-1/(4*y**2)) * w(x, y)\n",
      "D(z(x, y), (x, 2)) + (12*y**2) * D(z(x, y), y) + (-2) * D(w(x, y), x, y) + (1/y) * D(w(x, y), x)\n",
      "after autoreduce\n",
      "after complete system\n",
      "after conditions\n",
      "after reduced [D(w(x, y), x, y, y, y) + (-1/y) * D(w(x, y), x, y, y) + (5/(4*y**2)) * D(w(x, y), x, y) + (-5/(4*y**3)) * D(w(x, y), x), D(w(x, y), x, x) + (8*y**2) * D(w(x, y), y) + (-8*y) * w(x, y)]\n",
      "This is where we start\n",
      "D(w(x, y), x, y, y, y) + (-1/y) * D(w(x, y), x, y, y) + (5/(4*y**2)) * D(w(x, y), x, y) + (-5/(4*y**3)) * D(w(x, y), x)\n",
      "D(w(x, y), x, x) + (8*y**2) * D(w(x, y), y) + (-8*y) * w(x, y)\n",
      "D(w(x, y), x, x, y) + (-2/y) * D(w(x, y), x, x) + (-6*y) * D(w(x, y), y) + (6) * w(x, y)\n",
      "D(w(x, y), x, x, y, y) + (-2/y) * D(w(x, y), x, x, y) + (2/y**2) * D(w(x, y), x, x) + (-6*y) * D(w(x, y), (y, 2))\n",
      "D(w(x, y), x, x, y, y, y) + (-2/y) * D(w(x, y), x, x, y, y) + (4/y**2) * D(w(x, y), x, x, y) + (-4/y**3) * D(w(x, y), x, x) + (-6*y) * D(w(x, y), (y, 3)) + (-6) * D(w(x, y), (y, 2))\n",
      "D(w(x, y), x, x, x) + (8*y**3) * D(w(x, y), x, y, y) + (-16*y**2) * D(w(x, y), x, y) + (4*y) * D(w(x, y), x)\n",
      "D(z(x, y), y) + (-1/(12*y)) * D(w(x, y), x, y, y) + (1/(24*y**2)) * D(w(x, y), x, y) + (-1/(24*y**3)) * D(w(x, y), x)\n",
      "D(z(x, y), x) + (-1/(8*y**2)) * D(w(x, y), x, x) + (-1/2) * D(w(x, y), y) + (1/y) * w(x, y)\n",
      "after autoreduce\n",
      "after complete system\n",
      "after conditions\n",
      "after reduced []\n"
     ]
    },
    {
     "data": {
      "text/latex": [
       "$\\displaystyle  z_{(x, 1)}[], []$"
      ],
      "text/plain": [
       "<IPython.core.display.Math object>"
      ]
     },
     "metadata": {},
     "output_type": "display_data"
    },
    {
     "data": {
      "text/latex": [
       "$\\displaystyle  z_{(y, 1)}[], []$"
      ],
      "text/plain": [
       "<IPython.core.display.Math object>"
      ]
     },
     "metadata": {},
     "output_type": "display_data"
    },
    {
     "data": {
      "text/latex": [
       "$\\displaystyle  w_{(x, 1),(y, 1)}[], []$"
      ],
      "text/plain": [
       "<IPython.core.display.Math object>"
      ]
     },
     "metadata": {},
     "output_type": "display_data"
    },
    {
     "data": {
      "text/latex": [
       "$\\displaystyle  w_{(x, 1)}[], []$"
      ],
      "text/plain": [
       "<IPython.core.display.Math object>"
      ]
     },
     "metadata": {},
     "output_type": "display_data"
    },
    {
     "data": {
      "text/latex": [
       "$\\displaystyle  w_{(y, 1)}[], []$"
      ],
      "text/plain": [
       "<IPython.core.display.Math object>"
      ]
     },
     "metadata": {},
     "output_type": "display_data"
    },
    {
     "data": {
      "text/latex": [
       "$\\displaystyle  w[], []$"
      ],
      "text/plain": [
       "<IPython.core.display.Math object>"
      ]
     },
     "metadata": {},
     "output_type": "display_data"
    },
    {
     "name": "stdout",
     "output_type": "stream",
     "text": [
      "0.2654736042022705\n",
      "======================================================================================================================================================\n",
      "This is where we start\n",
      "D(z(x, y), y, y) + (1/(2*y)) * D(z(x, y), y)\n",
      "D(w(x, y), y) + (1/(4*y**2)) * D(w(x, y), x, x) + (-2/y) * w(x, y) + (-2) * D(z(x, y), x)\n",
      "D(w(x, y), x, y) + (-1/(2*y)) * D(w(x, y), x) + (-6*y**2) * D(z(x, y), y) + (-1/2) * D(z(x, y), (x, 2))\n",
      "D(w(x, y), y, y) + (-1/(2*y)) * D(w(x, y), y) + (1/(2*y**2)) * w(x, y) + (-2) * D(z(x, y), x, y)\n",
      "after autoreduce\n",
      "after complete system\n",
      "after conditions\n",
      "after reduced []\n"
     ]
    },
    {
     "data": {
      "text/latex": [
       "$\\displaystyle  w + 2 y z_{(x, 1)}[], []$"
      ],
      "text/plain": [
       "<IPython.core.display.Math object>"
      ]
     },
     "metadata": {},
     "output_type": "display_data"
    },
    {
     "data": {
      "text/latex": [
       "$\\displaystyle  z_{(x, 1),(y, 1)}[], []$"
      ],
      "text/plain": [
       "<IPython.core.display.Math object>"
      ]
     },
     "metadata": {},
     "output_type": "display_data"
    },
    {
     "data": {
      "text/latex": [
       "$\\displaystyle  z_{(y, 1)}[], []$"
      ],
      "text/plain": [
       "<IPython.core.display.Math object>"
      ]
     },
     "metadata": {},
     "output_type": "display_data"
    },
    {
     "data": {
      "text/latex": [
       "$\\displaystyle  z_{(x, 3)}[], []$"
      ],
      "text/plain": [
       "<IPython.core.display.Math object>"
      ]
     },
     "metadata": {},
     "output_type": "display_data"
    },
    {
     "data": {
      "text/latex": [
       "$\\displaystyle  z_{(x, 2)}[], []$"
      ],
      "text/plain": [
       "<IPython.core.display.Math object>"
      ]
     },
     "metadata": {},
     "output_type": "display_data"
    },
    {
     "name": "stdout",
     "output_type": "stream",
     "text": [
      "0.5024440288543701\n",
      "======================================================================================================================================================\n",
      "This is where we start\n",
      "D(z(x, y), x) + (-1/2) * D(w(x, y), y) + (-1/(8*y**2)) * D(w(x, y), x, x) + (1/y) * w(x, y)\n",
      "D(z(x, y), y) + (1/(12*y**2)) * D(z(x, y), (x, 2)) + (-1/(6*y**2)) * D(w(x, y), x, y) + (1/(12*y**3)) * D(w(x, y), x)\n",
      "D(z(x, y), x, y) + (-1/2) * D(w(x, y), y, y) + (1/(4*y)) * D(w(x, y), y) + (-1/(4*y**2)) * w(x, y)\n",
      "D(z(x, y), y, y) + (1/(2*y)) * D(z(x, y), y)\n",
      "after autoreduce\n",
      "after complete system\n",
      "after conditions\n",
      "after reduced [D(w(x, y), (y, 2)) + (-6*y + 1/(2*y)) * D(w(x, y), y) + (-1/(12*y**2)) * D(w(x, y), x, x, x, x) + ((-6 - 2/y**2)/(6*y) + (-6*y + 1/(2*y))/(3*y**2)) * D(w(x, y), (x, 2)) + (-(-6*y + 1/(2*y))/y) * w(x, y), D(w(x, y), (y, 2)) + (-2/y) * D(w(x, y), y) + (1/(4*y**2)) * D(w(x, y), x, x, x, x) + (-1/(2*y**3)) * D(w(x, y), x, x) + (2/y**2) * w(x, y)]\n",
      "This is where we start\n",
      "D(w(x, y), x, x, y) + (-6*y) * D(w(x, y), y) + (-2/y) * D(w(x, y), x, x) + (6) * w(x, y)\n",
      "D(w(x, y), (y, 2)) + (-6*y + 1/(2*y)) * D(w(x, y), y) + (-1/(12*y**2)) * D(w(x, y), x, x, x, x) + ((-6 - 2/y**2)/(6*y) + (-6*y + 1/(2*y))/(3*y**2)) * D(w(x, y), (x, 2)) + (-(-6*y + 1/(2*y))/y) * w(x, y)\n",
      "D(w(x, y), (y, 2)) + (-2/y) * D(w(x, y), y) + (1/(4*y**2)) * D(w(x, y), x, x, x, x) + (-1/(2*y**3)) * D(w(x, y), x, x) + (2/y**2) * w(x, y)\n",
      "D(w(x, y), x, y, y) + (-6*y - 3/(2*y)) * D(w(x, y), x, y) + (-1/(2*y)) * D(w(x, y), x, x, x) + (-6) * D(w(x, y), x)\n",
      "D(z(x, y), x) + (-1/2) * D(w(x, y), y) + (-1/(8*y**2)) * D(w(x, y), x, x) + (1/y) * w(x, y)\n",
      "D(z(x, y), y) + (-1/(8*y**2)) * D(w(x, y), x, y) + (1/(8*y**2)) * D(w(x, y), x, x, x)\n",
      "after autoreduce\n",
      "after complete system\n",
      "after conditions\n",
      "after reduced []\n"
     ]
    },
    {
     "data": {
      "text/latex": [
       "$\\displaystyle  z_{(y, 1)}[], []$"
      ],
      "text/plain": [
       "<IPython.core.display.Math object>"
      ]
     },
     "metadata": {},
     "output_type": "display_data"
    },
    {
     "data": {
      "text/latex": [
       "$\\displaystyle  z_{(x, 1)}[], []$"
      ],
      "text/plain": [
       "<IPython.core.display.Math object>"
      ]
     },
     "metadata": {},
     "output_type": "display_data"
    },
    {
     "data": {
      "text/latex": [
       "$\\displaystyle  w_{(x, 1)}[], []$"
      ],
      "text/plain": [
       "<IPython.core.display.Math object>"
      ]
     },
     "metadata": {},
     "output_type": "display_data"
    },
    {
     "data": {
      "text/latex": [
       "$\\displaystyle  w[], []$"
      ],
      "text/plain": [
       "<IPython.core.display.Math object>"
      ]
     },
     "metadata": {},
     "output_type": "display_data"
    },
    {
     "name": "stdout",
     "output_type": "stream",
     "text": [
      "1.853283166885376\n",
      "======================================================================================================================================================\n"
     ]
    }
   ],
   "source": [
    "start=time.time()\n",
    "ordering = Mlex\n",
    "jb=Janet_Basis(system_2_25, [w, z], [x,y], ordering)\n",
    "jb.show(rich=True, short=False)\n",
    "print(time.time() - start)\n",
    "print(\"=\"*150)\n",
    "start=time.time()\n",
    "jb=Janet_Basis(system_2_25, [z, w], [x,y], ordering)\n",
    "jb.show(rich=True, short=False)\n",
    "print(time.time() - start)\n",
    "print(\"=\"*150)\n",
    "start=time.time()\n",
    "jb=Janet_Basis(system_2_25, [w, z], [y, x], ordering)\n",
    "jb.show(rich=True, short=False)\n",
    "print(time.time() - start)\n",
    "print(\"=\"*150)\n",
    "jb=Janet_Basis(system_2_25, [z, w], [y, x], ordering)\n",
    "jb.show(rich=True, short=False)\n",
    "print(time.time() - start)\n",
    "print(\"=\"*150)"
   ]
  },
  {
   "cell_type": "code",
   "execution_count": null,
   "id": "06cd3a2c-7598-4fc7-b7eb-2e5913fc5c7c",
   "metadata": {},
   "outputs": [],
   "source": []
  }
 ],
 "metadata": {
  "kernelspec": {
   "display_name": "Python 3 (ipykernel)",
   "language": "python",
   "name": "python3"
  },
  "language_info": {
   "codemirror_mode": {
    "name": "ipython",
    "version": 3
   },
   "file_extension": ".py",
   "mimetype": "text/x-python",
   "name": "python",
   "nbconvert_exporter": "python",
   "pygments_lexer": "ipython3",
   "version": "3.12.2"
  },
  "widgets": {
   "application/vnd.jupyter.widget-state+json": {
    "state": {},
    "version_major": 2,
    "version_minor": 0
   }
  }
 },
 "nbformat": 4,
 "nbformat_minor": 5
}
