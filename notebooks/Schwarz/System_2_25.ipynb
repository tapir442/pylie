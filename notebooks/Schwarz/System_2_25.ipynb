{
 "cells": [
  {
   "cell_type": "code",
   "execution_count": 1,
   "id": "b39e2f41-3eb2-447d-b7e3-ac83b0d9ee73",
   "metadata": {},
   "outputs": [],
   "source": [
    "from sympy import symbols, Function, diff\n",
    "from delierium.matrix_order import Context, Mgrlex, Mgrevlex, Mlex\n",
    "from delierium.JanetBasis import Janet_Basis, _Differential_Polynomial\n",
    "from delierium.helpers import latexer\n",
    "from IPython.display import Math\n",
    "\n",
    "x, y = symbols(\"x, y\")\n",
    "z = Function(\"z\")(x,y)\n",
    "w = Function(\"w\")(x,y)\n",
    "import time\n",
    "%load_ext snakeviz\n",
    "\n",
    "# ctx: items are in descending order\n",
    "ctx_grevlex_g = Context((w,z), [x, y], Mgrevlex)\n",
    "ctx_grlex_g   = Context((w,z), [x, y], Mgrlex)\n",
    "ctx_lex_g     = Context((w,z), [x, y],  Mlex)\n",
    "\n",
    "g1 = diff(z, y,y) + diff(z,y)/(2*y)\n",
    "g2 = diff(w,x,x) + 4*diff(w,y)*y**2 - 8*(y**2) * diff(z,x) - 8*w*y\n",
    "g3 = diff(w,x,y) - diff(z,x,x)/2 - diff(w,x)/(2*y) - 6* (y**2) * diff(z,y)\n",
    "g4 = diff(w,y,y) - 2*diff(z,x,y) - diff(w,y)/(2*y) + w/(2*y**2)\n",
    "\n",
    "system_2_25 = [g2,g3,g4,g1]\n",
    "\n",
    "# 2.25 is already autoreduced"
   ]
  },
  {
   "cell_type": "code",
   "execution_count": 2,
   "id": "90c7f9da-cbda-4c47-ab49-dfbb6cabb305",
   "metadata": {},
   "outputs": [
    {
     "name": "stdout",
     "output_type": "stream",
     "text": [
      "[w(x, y)]\n",
      "[Derivative(z(x, y), x)]\n",
      "[Derivative(z(x, y), y)]\n",
      "0.30118727684020996\n"
     ]
    }
   ],
   "source": [
    "start=time.time()\n",
    "ordering = Mgrevlex\n",
    "jb=Janet_Basis(system_2_25, [w, z], [y, x], ordering)\n",
    "jb.show(rich=False, short=True)\n",
    "print(time.time() - start)"
   ]
  },
  {
   "cell_type": "code",
   "execution_count": 3,
   "id": "63f7f783-5626-4c8b-ac78-cb23421fddb3",
   "metadata": {},
   "outputs": [
    {
     "name": "stdout",
     "output_type": "stream",
     "text": [
      "[w(x, y)]\n",
      "[Derivative(z(x, y), y)]\n",
      "[Derivative(z(x, y), x)]\n",
      "[Derivative(z(x, y), x, y)]\n",
      "0.21852946281433105\n",
      "======================================================================================================================================================\n",
      "[w(x, y)]\n",
      "[Derivative(w(x, y), y)]\n",
      "[Derivative(z(x, y), y)]\n",
      "[Derivative(z(x, y), x)]\n",
      "[Derivative(z(x, y), x, y)]\n",
      "0.2835543155670166\n",
      "======================================================================================================================================================\n",
      "[w(x, y)]\n",
      "[Derivative(z(x, y), x)]\n",
      "[Derivative(z(x, y), y)]\n",
      "0.1990809440612793\n",
      "======================================================================================================================================================\n",
      "[Derivative(z(x, y), y)]\n",
      "[Derivative(w(x, y), (x, 2)), Derivative(z(x, y), x), Derivative(w(x, y), y), w(x, y)]\n",
      "[Derivative(w(x, y), (y, 2)), Derivative(w(x, y), y), w(x, y)]\n",
      "[Derivative(z(x, y), (x, 2)), Derivative(w(x, y), x, y), Derivative(z(x, y), y), Derivative(w(x, y), x)]\n",
      "[Derivative(z(x, y), x, y)]\n",
      "[Derivative(w(x, y), x, (y, 2)), Derivative(w(x, y), x, y), Derivative(w(x, y), x)]\n",
      "0.40259575843811035\n",
      "======================================================================================================================================================\n"
     ]
    }
   ],
   "source": [
    "start=time.time()\n",
    "ordering = Mgrevlex\n",
    "jb=Janet_Basis(system_2_25, [w, z], [x,y], ordering)\n",
    "jb.show(rich=False, short=True)\n",
    "print(time.time() - start)\n",
    "print(\"=\"*150)\n",
    "start=time.time()\n",
    "jb=Janet_Basis(system_2_25, [z, w], [x,y], ordering)\n",
    "jb.show(rich=False, short=True)\n",
    "print(time.time() - start)\n",
    "print(\"=\"*150)\n",
    "start=time.time()\n",
    "jb=Janet_Basis(system_2_25, [w, z], [y, x], ordering)\n",
    "jb.show(rich=False, short=True)\n",
    "print(time.time() - start)\n",
    "print(\"=\"*150)\n",
    "jb=Janet_Basis(system_2_25, [z, w], [y, x], ordering)\n",
    "jb.show(rich=False, short=True)\n",
    "print(time.time() - start)\n",
    "print(\"=\"*150)\n",
    "\n"
   ]
  },
  {
   "cell_type": "code",
   "execution_count": 4,
   "id": "900edc2a-aa03-4ce7-a0b2-2459065ecfcf",
   "metadata": {},
   "outputs": [
    {
     "name": "stdout",
     "output_type": "stream",
     "text": [
      "[w(x, y)]\n",
      "[Derivative(z(x, y), y)]\n",
      "[Derivative(z(x, y), x)]\n",
      "[Derivative(z(x, y), x, y)]\n",
      "0.17243027687072754\n",
      "======================================================================================================================================================\n",
      "[w(x, y)]\n",
      "[Derivative(w(x, y), y)]\n",
      "[Derivative(z(x, y), y)]\n",
      "[Derivative(z(x, y), x)]\n",
      "[Derivative(z(x, y), x, y)]\n",
      "0.15674757957458496\n",
      "======================================================================================================================================================\n",
      "[w(x, y)]\n",
      "[Derivative(z(x, y), x)]\n",
      "[Derivative(z(x, y), y)]\n",
      "0.15723419189453125\n",
      "======================================================================================================================================================\n",
      "[Derivative(z(x, y), y)]\n",
      "[Derivative(w(x, y), (x, 2)), Derivative(z(x, y), x), Derivative(w(x, y), y), w(x, y)]\n",
      "[Derivative(w(x, y), (y, 2)), Derivative(w(x, y), y), w(x, y)]\n",
      "[Derivative(z(x, y), (x, 2)), Derivative(w(x, y), x, y), Derivative(z(x, y), y), Derivative(w(x, y), x)]\n",
      "[Derivative(z(x, y), x, y)]\n",
      "[Derivative(w(x, y), x, (y, 2)), Derivative(w(x, y), x, y), Derivative(w(x, y), x)]\n",
      "0.32433438301086426\n",
      "======================================================================================================================================================\n"
     ]
    }
   ],
   "source": [
    "start=time.time()\n",
    "ordering = Mgrlex\n",
    "jb=Janet_Basis(system_2_25, [w, z], [x,y], ordering)\n",
    "jb.show(rich=False, short=True)\n",
    "print(time.time() - start)\n",
    "print(\"=\"*150)\n",
    "start=time.time()\n",
    "jb=Janet_Basis(system_2_25, [z, w], [x,y], ordering)\n",
    "jb.show(rich=False, short=True)\n",
    "print(time.time() - start)\n",
    "print(\"=\"*150)\n",
    "start=time.time()\n",
    "jb=Janet_Basis(system_2_25, [w, z], [y, x], ordering)\n",
    "jb.show(rich=False, short=True)\n",
    "print(time.time() - start)\n",
    "print(\"=\"*150)\n",
    "jb=Janet_Basis(system_2_25, [z, w], [y, x], ordering)\n",
    "jb.show(rich=False, short=True)\n",
    "print(time.time() - start)\n",
    "print(\"=\"*150)"
   ]
  },
  {
   "cell_type": "code",
   "execution_count": 5,
   "id": "653ad4ca-120d-4245-b456-0da31aac39a6",
   "metadata": {},
   "outputs": [
    {
     "name": "stdout",
     "output_type": "stream",
     "text": [
      "[Derivative(z(x, y), y)]\n",
      "[Derivative(z(x, y), (y, 2))]\n",
      "[Derivative(z(x, y), x, y)]\n",
      "[Derivative(z(x, y), x, (y, 2))]\n",
      "[Derivative(z(x, y), (x, 2)), Derivative(z(x, y), (y, 2)), Derivative(z(x, y), y)]\n",
      "[w(x, y), Derivative(z(x, y), x)]\n",
      "0.3206825256347656\n",
      "======================================================================================================================================================\n"
     ]
    },
    {
     "ename": "AttributeError",
     "evalue": "'list' object has no attribute 'add'",
     "output_type": "error",
     "traceback": [
      "\u001b[0;31m---------------------------------------------------------------------------\u001b[0m",
      "\u001b[0;31mAttributeError\u001b[0m                            Traceback (most recent call last)",
      "Cell \u001b[0;32mIn[5], line 8\u001b[0m\n\u001b[1;32m      6\u001b[0m \u001b[38;5;28mprint\u001b[39m(\u001b[38;5;124m\"\u001b[39m\u001b[38;5;124m=\u001b[39m\u001b[38;5;124m\"\u001b[39m\u001b[38;5;241m*\u001b[39mInteger(\u001b[38;5;241m150\u001b[39m))\n\u001b[1;32m      7\u001b[0m start\u001b[38;5;241m=\u001b[39mtime\u001b[38;5;241m.\u001b[39mtime()\n\u001b[0;32m----> 8\u001b[0m jb\u001b[38;5;241m=\u001b[39m\u001b[43mJanet_Basis\u001b[49m\u001b[43m(\u001b[49m\u001b[43msystem_2_25\u001b[49m\u001b[43m,\u001b[49m\u001b[43m \u001b[49m\u001b[43m[\u001b[49m\u001b[43mz\u001b[49m\u001b[43m,\u001b[49m\u001b[43m \u001b[49m\u001b[43mw\u001b[49m\u001b[43m]\u001b[49m\u001b[43m,\u001b[49m\u001b[43m \u001b[49m\u001b[43m[\u001b[49m\u001b[43mx\u001b[49m\u001b[43m,\u001b[49m\u001b[43my\u001b[49m\u001b[43m]\u001b[49m\u001b[43m,\u001b[49m\u001b[43m \u001b[49m\u001b[43mordering\u001b[49m\u001b[43m)\u001b[49m\n\u001b[1;32m      9\u001b[0m jb\u001b[38;5;241m.\u001b[39mshow(rich\u001b[38;5;241m=\u001b[39m\u001b[38;5;28;01mFalse\u001b[39;00m, short\u001b[38;5;241m=\u001b[39m\u001b[38;5;28;01mTrue\u001b[39;00m)\n\u001b[1;32m     10\u001b[0m \u001b[38;5;28mprint\u001b[39m(time\u001b[38;5;241m.\u001b[39mtime() \u001b[38;5;241m-\u001b[39m start)\n",
      "File \u001b[0;32m~/research-disk/delierium/src/delierium/JanetBasis.py:868\u001b[0m, in \u001b[0;36mJanet_Basis.__init__\u001b[0;34m(self, S, dependent, independent, sort_order)\u001b[0m\n\u001b[1;32m    865\u001b[0m             \u001b[38;5;28mself\u001b[39m\u001b[38;5;241m.\u001b[39mS \u001b[38;5;241m=\u001b[39m Autoreduce(\u001b[38;5;28mself\u001b[39m\u001b[38;5;241m.\u001b[39mS, context)\n\u001b[1;32m    866\u001b[0m \u001b[38;5;66;03m#            print(\"after autoreduce\")\u001b[39;00m\n\u001b[1;32m    867\u001b[0m \u001b[38;5;66;03m#            self.show(rich=False, short=True)\u001b[39;00m\n\u001b[0;32m--> 868\u001b[0m             \u001b[38;5;28mself\u001b[39m\u001b[38;5;241m.\u001b[39mS \u001b[38;5;241m=\u001b[39m \u001b[43mCompleteSystem\u001b[49m\u001b[43m(\u001b[49m\u001b[38;5;28;43mself\u001b[39;49m\u001b[38;5;241;43m.\u001b[39;49m\u001b[43mS\u001b[49m\u001b[43m,\u001b[49m\u001b[43m \u001b[49m\u001b[43mcontext\u001b[49m\u001b[43m)\u001b[49m\n\u001b[1;32m    869\u001b[0m \u001b[38;5;66;03m#            print(\"after complete system\")\u001b[39;00m\n\u001b[1;32m    870\u001b[0m \u001b[38;5;66;03m#            self.show(rich=False, short=True)\u001b[39;00m\n\u001b[1;32m    872\u001b[0m             conditions \u001b[38;5;241m=\u001b[39m \u001b[38;5;28mlist\u001b[39m(split_by_function(\u001b[38;5;28mself\u001b[39m\u001b[38;5;241m.\u001b[39mS, context))\n",
      "File \u001b[0;32m~/research-disk/delierium/src/delierium/JanetBasis.py:717\u001b[0m, in \u001b[0;36mCompleteSystem\u001b[0;34m(S, context)\u001b[0m\n\u001b[1;32m    670\u001b[0m \u001b[38;5;250m\u001b[39m\u001b[38;5;124;03m\"\"\"\u001b[39;00m\n\u001b[1;32m    671\u001b[0m \u001b[38;5;124;03mAlgorithm C1, p. 385\u001b[39;00m\n\u001b[1;32m    672\u001b[0m \n\u001b[0;32m   (...)\u001b[0m\n\u001b[1;32m    714\u001b[0m \u001b[38;5;124;03mdiff(z(x, y), x, x, x) + (1/y) * diff(w(x, y), x, x) + (8*y^2) * diff(w(x, y), y, y) + (-4*y^2) * diff(z(x, y), x, y) + (-32*y) * diff(z(x, y), x) + (-16) * w(x, y)\u001b[39;00m\n\u001b[1;32m    715\u001b[0m \u001b[38;5;124;03m\"\"\"\u001b[39;00m\n\u001b[1;32m    716\u001b[0m s \u001b[38;5;241m=\u001b[39m bucket(S, key\u001b[38;5;241m=\u001b[39m\u001b[38;5;28;01mlambda\u001b[39;00m d: d\u001b[38;5;241m.\u001b[39mLfunc())\n\u001b[0;32m--> 717\u001b[0m res \u001b[38;5;241m=\u001b[39m flatten(\u001b[43m[\u001b[49m\u001b[43mcomplete\u001b[49m\u001b[43m(\u001b[49m\u001b[43ms\u001b[49m\u001b[43m[\u001b[49m\u001b[43mk\u001b[49m\u001b[43m]\u001b[49m\u001b[43m,\u001b[49m\u001b[43m \u001b[49m\u001b[43mcontext\u001b[49m\u001b[43m)\u001b[49m\u001b[43m \u001b[49m\u001b[38;5;28;43;01mfor\u001b[39;49;00m\u001b[43m \u001b[49m\u001b[43mk\u001b[49m\u001b[43m \u001b[49m\u001b[38;5;129;43;01min\u001b[39;49;00m\u001b[43m \u001b[49m\u001b[43ms\u001b[49m\u001b[43m]\u001b[49m)\n\u001b[1;32m    718\u001b[0m \u001b[38;5;28;01mreturn\u001b[39;00m Reorder(res, context, ascending\u001b[38;5;241m=\u001b[39m\u001b[38;5;28;01mTrue\u001b[39;00m)\n",
      "File \u001b[0;32m~/research-disk/delierium/src/delierium/JanetBasis.py:717\u001b[0m, in \u001b[0;36m<listcomp>\u001b[0;34m(.0)\u001b[0m\n\u001b[1;32m    670\u001b[0m \u001b[38;5;250m\u001b[39m\u001b[38;5;124;03m\"\"\"\u001b[39;00m\n\u001b[1;32m    671\u001b[0m \u001b[38;5;124;03mAlgorithm C1, p. 385\u001b[39;00m\n\u001b[1;32m    672\u001b[0m \n\u001b[0;32m   (...)\u001b[0m\n\u001b[1;32m    714\u001b[0m \u001b[38;5;124;03mdiff(z(x, y), x, x, x) + (1/y) * diff(w(x, y), x, x) + (8*y^2) * diff(w(x, y), y, y) + (-4*y^2) * diff(z(x, y), x, y) + (-32*y) * diff(z(x, y), x) + (-16) * w(x, y)\u001b[39;00m\n\u001b[1;32m    715\u001b[0m \u001b[38;5;124;03m\"\"\"\u001b[39;00m\n\u001b[1;32m    716\u001b[0m s \u001b[38;5;241m=\u001b[39m bucket(S, key\u001b[38;5;241m=\u001b[39m\u001b[38;5;28;01mlambda\u001b[39;00m d: d\u001b[38;5;241m.\u001b[39mLfunc())\n\u001b[0;32m--> 717\u001b[0m res \u001b[38;5;241m=\u001b[39m flatten([\u001b[43mcomplete\u001b[49m\u001b[43m(\u001b[49m\u001b[43ms\u001b[49m\u001b[43m[\u001b[49m\u001b[43mk\u001b[49m\u001b[43m]\u001b[49m\u001b[43m,\u001b[49m\u001b[43m \u001b[49m\u001b[43mcontext\u001b[49m\u001b[43m)\u001b[49m \u001b[38;5;28;01mfor\u001b[39;00m k \u001b[38;5;129;01min\u001b[39;00m s])\n\u001b[1;32m    718\u001b[0m \u001b[38;5;28;01mreturn\u001b[39;00m Reorder(res, context, ascending\u001b[38;5;241m=\u001b[39m\u001b[38;5;28;01mTrue\u001b[39;00m)\n",
      "File \u001b[0;32m~/research-disk/delierium/src/delierium/JanetBasis.py:665\u001b[0m, in \u001b[0;36mcomplete\u001b[0;34m(S, context)\u001b[0m\n\u001b[1;32m    663\u001b[0m     \u001b[38;5;28;01mfor\u001b[39;00m _m0 \u001b[38;5;129;01min\u001b[39;00m m0:\n\u001b[1;32m    664\u001b[0m         dp \u001b[38;5;241m=\u001b[39m _m0[\u001b[38;5;241m2\u001b[39m]\u001b[38;5;241m.\u001b[39mdiff(map_old_to_new(_m0[\u001b[38;5;241m1\u001b[39m]))\n\u001b[0;32m--> 665\u001b[0m         \u001b[43mresult\u001b[49m\u001b[38;5;241;43m.\u001b[39;49m\u001b[43madd\u001b[49m(dp)\n\u001b[1;32m    666\u001b[0m result \u001b[38;5;241m=\u001b[39m Reorder(\u001b[38;5;28mlist\u001b[39m(result), context, ascending\u001b[38;5;241m=\u001b[39m\u001b[38;5;28;01mFalse\u001b[39;00m)\n",
      "\u001b[0;31mAttributeError\u001b[0m: 'list' object has no attribute 'add'"
     ]
    }
   ],
   "source": [
    "start=time.time()\n",
    "ordering = Mlex\n",
    "jb=Janet_Basis(system_2_25, [w, z], [x,y], ordering)\n",
    "jb.show(rich=False, short=True)\n",
    "print(time.time() - start)\n",
    "print(\"=\"*150)\n",
    "start=time.time()\n",
    "jb=Janet_Basis(system_2_25, [z, w], [x,y], ordering)\n",
    "jb.show(rich=False, short=True)\n",
    "print(time.time() - start)\n",
    "print(\"=\"*150)\n",
    "start=time.time()\n",
    "jb=Janet_Basis(system_2_25, [w, z], [y, x], ordering)\n",
    "jb.show(rich=False, short=True)\n",
    "print(time.time() - start)\n",
    "print(\"=\"*150)\n",
    "jb=Janet_Basis(system_2_25, [z, w], [y, x], ordering)\n",
    "jb.show(rich=False, short=True)\n",
    "print(time.time() - start)\n",
    "print(\"=\"*150)"
   ]
  },
  {
   "cell_type": "code",
   "execution_count": null,
   "id": "0f0c8b9b-f73a-44db-9146-e18ea890f129",
   "metadata": {},
   "outputs": [],
   "source": []
  }
 ],
 "metadata": {
  "kernelspec": {
   "display_name": "SageMath 10.2",
   "language": "sage",
   "name": "sagemath"
  },
  "language_info": {
   "codemirror_mode": {
    "name": "ipython",
    "version": 3
   },
   "file_extension": ".py",
   "mimetype": "text/x-python",
   "name": "python",
   "nbconvert_exporter": "python",
   "pygments_lexer": "ipython3",
   "version": "3.11.10"
  },
  "widgets": {
   "application/vnd.jupyter.widget-state+json": {
    "state": {},
    "version_major": 2,
    "version_minor": 0
   }
  }
 },
 "nbformat": 4,
 "nbformat_minor": 5
}
