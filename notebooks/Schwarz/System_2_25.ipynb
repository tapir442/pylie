{
 "cells": [
  {
   "cell_type": "code",
   "execution_count": 1,
   "id": "b39e2f41-3eb2-447d-b7e3-ac83b0d9ee73",
   "metadata": {},
   "outputs": [
    {
     "data": {
      "text/plain": [
       "True"
      ]
     },
     "execution_count": 1,
     "metadata": {},
     "output_type": "execute_result"
    }
   ],
   "source": [
    "import os\n",
    "os.environ[\"USE_SYMENGINE\"] = \"1\"\n",
    "\n",
    "from sympy.core.backend import *\n",
    "from delierium.matrix_order import Context, Mgrlex, Mgrevlex, Mlex\n",
    "from delierium.JanetBasis import Janet_Basis, LHDP\n",
    "from delierium.helpers import latexer\n",
    "from IPython.display import Math\n",
    "\n",
    "x, y = symbols(\"x, y\")\n",
    "z = Function(\"z\")(x,y)\n",
    "w = Function(\"w\")(x,y)\n",
    "import time\n",
    "# ctx: items are in descending order\n",
    "ctx_grevlex_g = Context((w,z), [x, y], Mgrevlex)\n",
    "ctx_grlex_g   = Context((w,z), [x, y], Mgrlex)\n",
    "ctx_lex_g     = Context((w,z), [x, y],  Mlex)\n",
    "\n",
    "g1 = diff(z, y,y) + diff(z,y)/(2*y)\n",
    "g2 = diff(w,x,x) + 4*diff(w,y)*y**2 - 8*(y**2) * diff(z,x) - 8*w*y\n",
    "g3 = diff(w,x,y) - diff(z,x,x)/2 - diff(w,x)/(2*y) - 6* (y**2) * diff(z,y)\n",
    "g4 = diff(w,y,y) - 2*diff(z,x,y) - diff(w,y)/(2*y) + w/(2*y**2)\n",
    "\n",
    "system_2_25 = [g2,g3,g4,g1]\n",
    "\n",
    "# 2.25 is already autoreduced\n",
    "(-(-x**2 - y)/(x**2 + y)).simplify() - 1 == 0 "
   ]
  },
  {
   "cell_type": "code",
   "execution_count": 2,
   "id": "90c7f9da-cbda-4c47-ab49-dfbb6cabb305",
   "metadata": {},
   "outputs": [
    {
     "name": "stdout",
     "output_type": "stream",
     "text": [
      "This is where we start\n",
      "D(z(x, y), y, y) + (1/(2*y)) * D(z(x, y), y)\n",
      "D(w(x, y), x, x) + (4*y**2) * D(w(x, y), y) + (-8*y**2) * D(z(x, y), x) + (-8*y) * w(x, y)\n",
      "D(w(x, y), x, y) + (-1/2) * D(z(x, y), (x, 2)) + (-1/(2*y)) * D(w(x, y), x) + (-6*y**2) * D(z(x, y), y)\n",
      "D(w(x, y), y, y) + (-2) * D(z(x, y), x, y) + (-1/(2*y)) * D(w(x, y), y) + (1/(2*y**2)) * w(x, y)\n",
      "after autoreduce\n",
      "after complete system\n",
      "after conditions\n",
      "after reduced [D(z(x, y), (x, 3)) + (12.0*y**2) * D(z(x, y), x, y) + (-24.0*y) * D(z(x, y), x) + (-12.0000000000000) * w(x, y), D(z(x, y), (x, 2), y) + (-6.0*y) * D(z(x, y), y)]\n",
      "This is where we start\n",
      "D(z(x, y), y, y) + (1/(2*y)) * D(z(x, y), y)\n",
      "D(w(x, y), x, x) + (4*y**2) * D(w(x, y), y) + (-8*y**2) * D(z(x, y), x) + (-8*y) * w(x, y)\n",
      "D(w(x, y), x, y) + (-1/2) * D(z(x, y), (x, 2)) + (-1/(2*y)) * D(w(x, y), x) + (-6*y**2) * D(z(x, y), y)\n",
      "D(w(x, y), y, y) + (-2) * D(z(x, y), x, y) + (-1/(2*y)) * D(w(x, y), y) + (1/(2*y**2)) * w(x, y)\n",
      "D(z(x, y), (x, 3)) + (12.0*y**2) * D(z(x, y), x, y) + (-24.0*y) * D(z(x, y), x) + (-12.0000000000000) * w(x, y)\n",
      "D(z(x, y), (x, 2), y) + (-6.0*y) * D(z(x, y), y)\n",
      "after autoreduce\n",
      "after complete system\n",
      "after conditions\n",
      "after reduced [D(z(x, y), (x, 3)) + (12.0*y**2) * D(z(x, y), x, y) + (-24.0*y) * D(z(x, y), x) + (-12.0000000000000) * w(x, y), D(z(x, y), (x, 2), y) + (-6.0*y) * D(z(x, y), y), D(w(x, y), y) + (2.00000000000000) * D(z(x, y), x)]\n",
      "This is where we start\n",
      "D(w(x, y), y) + (2.00000000000000) * D(z(x, y), x)\n",
      "D(z(x, y), y, y) + (1/(2*y)) * D(z(x, y), y)\n",
      "D(w(x, y), x, x) + (4*y**2) * D(w(x, y), y) + (-8*y**2) * D(z(x, y), x) + (-8*y) * w(x, y)\n",
      "D(w(x, y), x, y) + (-1/2) * D(z(x, y), (x, 2)) + (-1/(2*y)) * D(w(x, y), x) + (-6*y**2) * D(z(x, y), y)\n",
      "D(w(x, y), y, y) + (-2) * D(z(x, y), x, y) + (-1/(2*y)) * D(w(x, y), y) + (1/(2*y**2)) * w(x, y)\n",
      "D(z(x, y), (x, 3)) + (12.0*y**2) * D(z(x, y), x, y) + (-24.0*y) * D(z(x, y), x) + (-12.0000000000000) * w(x, y)\n",
      "D(z(x, y), (x, 2), y) + (-6.0*y) * D(z(x, y), y)\n",
      "after autoreduce\n",
      "after complete system\n",
      "after conditions\n",
      "after reduced [D(w(x, y), y) + (-1.0/y) * w(x, y), D(w(x, y), x)]\n",
      "This is where we start\n",
      "D(z(x, y), x) + (0.5/y) * w(x, y)\n",
      "D(z(x, y), y)\n",
      "D(w(x, y), x)\n",
      "D(w(x, y), y) + (-1.0/y) * w(x, y)\n",
      "after autoreduce\n",
      "after complete system\n",
      "after conditions\n",
      "after reduced [D(w(x, y), y) + (-1.0/y) * w(x, y), D(w(x, y), x)]\n"
     ]
    },
    {
     "data": {
      "text/latex": [
       "$\\displaystyle 1.0 z(x, y)_{x} + \\frac{0.5}{y} w[], []$"
      ],
      "text/plain": [
       "<IPython.core.display.Math object>"
      ]
     },
     "metadata": {},
     "output_type": "display_data"
    },
    {
     "data": {
      "text/latex": [
       "$\\displaystyle 1.0 z(x, y)_{y}[], []$"
      ],
      "text/plain": [
       "<IPython.core.display.Math object>"
      ]
     },
     "metadata": {},
     "output_type": "display_data"
    },
    {
     "data": {
      "text/latex": [
       "$\\displaystyle 1.0 w(x, y)_{x}[], []$"
      ],
      "text/plain": [
       "<IPython.core.display.Math object>"
      ]
     },
     "metadata": {},
     "output_type": "display_data"
    },
    {
     "data": {
      "text/latex": [
       "$\\displaystyle 1.0 w(x, y)_{y}- \\frac{1.0}{y} w[], []$"
      ],
      "text/plain": [
       "<IPython.core.display.Math object>"
      ]
     },
     "metadata": {},
     "output_type": "display_data"
    },
    {
     "name": "stdout",
     "output_type": "stream",
     "text": [
      "0.4567875862121582\n"
     ]
    }
   ],
   "source": [
    "start=time.time()\n",
    "ordering = Mgrevlex\n",
    "jb=Janet_Basis(system_2_25, [w, z], [y, x], ordering)\n",
    "jb.show(rich=True, short=False)\n",
    "print(time.time() - start)"
   ]
  },
  {
   "cell_type": "code",
   "execution_count": 3,
   "id": "63f7f783-5626-4c8b-ac78-cb23421fddb3",
   "metadata": {},
   "outputs": [
    {
     "name": "stdout",
     "output_type": "stream",
     "text": [
      "This is where we start\n",
      "D(z(x, y), y, y) + (1/(2*y)) * D(z(x, y), y)\n",
      "D(w(x, y), y, y) + (-2) * D(z(x, y), x, y) + (-1/(2*y)) * D(w(x, y), y) + (1/(2*y**2)) * w(x, y)\n",
      "D(w(x, y), x, y) + (-1/2) * D(z(x, y), (x, 2)) + (-1/(2*y)) * D(w(x, y), x) + (-6*y**2) * D(z(x, y), y)\n",
      "D(w(x, y), x, x) + (4*y**2) * D(w(x, y), y) + (-8*y**2) * D(z(x, y), x) + (-8*y) * w(x, y)\n",
      "after autoreduce\n",
      "after complete system\n",
      "after conditions\n",
      "after reduced [D(z(x, y), (x, 2), y) + (-6.0*y) * D(z(x, y), y), D(z(x, y), (x, 3)) + (12.0*y**2) * D(z(x, y), x, y) + (-24.0*y) * D(z(x, y), x) + (-12.0000000000000) * w(x, y)]\n",
      "This is where we start\n",
      "D(z(x, y), y, y) + (1/(2*y)) * D(z(x, y), y)\n",
      "D(w(x, y), y, y) + (-2) * D(z(x, y), x, y) + (-1/(2*y)) * D(w(x, y), y) + (1/(2*y**2)) * w(x, y)\n",
      "D(w(x, y), x, y) + (-1/2) * D(z(x, y), (x, 2)) + (-1/(2*y)) * D(w(x, y), x) + (-6*y**2) * D(z(x, y), y)\n",
      "D(w(x, y), x, x) + (4*y**2) * D(w(x, y), y) + (-8*y**2) * D(z(x, y), x) + (-8*y) * w(x, y)\n",
      "D(z(x, y), (x, 2), y) + (-6.0*y) * D(z(x, y), y)\n",
      "D(z(x, y), (x, 3)) + (12.0*y**2) * D(z(x, y), x, y) + (-24.0*y) * D(z(x, y), x) + (-12.0000000000000) * w(x, y)\n",
      "after autoreduce\n",
      "after complete system\n",
      "after conditions\n",
      "after reduced [D(z(x, y), (x, 2), y) + (-6.0*y) * D(z(x, y), y), D(z(x, y), (x, 3)) + (12.0*y**2) * D(z(x, y), x, y) + (-24.0*y) * D(z(x, y), x) + (-12.0000000000000) * w(x, y), D(w(x, y), y) + (2.00000000000000) * D(z(x, y), x)]\n",
      "This is where we start\n",
      "D(w(x, y), y) + (2.00000000000000) * D(z(x, y), x)\n",
      "D(z(x, y), y, y) + (1/(2*y)) * D(z(x, y), y)\n",
      "D(w(x, y), y, y) + (-2) * D(z(x, y), x, y) + (-1/(2*y)) * D(w(x, y), y) + (1/(2*y**2)) * w(x, y)\n",
      "D(w(x, y), x, y) + (-1/2) * D(z(x, y), (x, 2)) + (-1/(2*y)) * D(w(x, y), x) + (-6*y**2) * D(z(x, y), y)\n",
      "D(w(x, y), x, x) + (4*y**2) * D(w(x, y), y) + (-8*y**2) * D(z(x, y), x) + (-8*y) * w(x, y)\n",
      "D(z(x, y), (x, 2), y) + (-6.0*y) * D(z(x, y), y)\n",
      "D(z(x, y), (x, 3)) + (12.0*y**2) * D(z(x, y), x, y) + (-24.0*y) * D(z(x, y), x) + (-12.0000000000000) * w(x, y)\n",
      "D(z(x, y), (x, 2), (y, 2)) + (-6.0*y) * D(z(x, y), (y, 2)) + (-6.00000000000000) * D(z(x, y), y)\n",
      "D(z(x, y), (x, 2), (y, 3)) + (-6.0*y) * D(z(x, y), (y, 3)) + (-12.0000000000000) * D(z(x, y), (y, 2))\n",
      "after autoreduce\n",
      "after complete system\n",
      "after conditions\n",
      "after reduced [D(w(x, y), y) + (-1.0/y) * w(x, y), D(w(x, y), x)]\n",
      "This is where we start\n",
      "D(z(x, y), y)\n",
      "D(z(x, y), x) + (0.5/y) * w(x, y)\n",
      "D(w(x, y), y) + (-1.0/y) * w(x, y)\n",
      "D(w(x, y), x)\n",
      "after autoreduce\n",
      "after complete system\n",
      "after conditions\n",
      "after reduced [D(w(x, y), y) + (-1.0/y) * w(x, y), D(w(x, y), x)]\n"
     ]
    },
    {
     "data": {
      "text/latex": [
       "$\\displaystyle 1.0 z(x, y)_{y}[], []$"
      ],
      "text/plain": [
       "<IPython.core.display.Math object>"
      ]
     },
     "metadata": {},
     "output_type": "display_data"
    },
    {
     "data": {
      "text/latex": [
       "$\\displaystyle 1.0 z(x, y)_{x} + \\frac{0.5}{y} w[], []$"
      ],
      "text/plain": [
       "<IPython.core.display.Math object>"
      ]
     },
     "metadata": {},
     "output_type": "display_data"
    },
    {
     "data": {
      "text/latex": [
       "$\\displaystyle 1.0 w(x, y)_{y}- \\frac{1.0}{y} w[], []$"
      ],
      "text/plain": [
       "<IPython.core.display.Math object>"
      ]
     },
     "metadata": {},
     "output_type": "display_data"
    },
    {
     "data": {
      "text/latex": [
       "$\\displaystyle 1.0 w(x, y)_{x}[], []$"
      ],
      "text/plain": [
       "<IPython.core.display.Math object>"
      ]
     },
     "metadata": {},
     "output_type": "display_data"
    },
    {
     "name": "stdout",
     "output_type": "stream",
     "text": [
      "0.40779662132263184\n",
      "======================================================================================================================================================\n",
      "This is where we start\n",
      "D(w(x, y), x, x) + (-8*y**2) * D(z(x, y), x) + (4*y**2) * D(w(x, y), y) + (-8*y) * w(x, y)\n",
      "D(z(x, y), y, y) + (1/(2*y)) * D(z(x, y), y)\n",
      "D(z(x, y), x, y) + (-1/2) * D(w(x, y), y, y) + (1/(4*y)) * D(w(x, y), y) + (-1/(4*y**2)) * w(x, y)\n",
      "D(z(x, y), (x, 2)) + (-2) * D(w(x, y), x, y) + (12*y**2) * D(z(x, y), y) + (1/y) * D(w(x, y), x)\n",
      "after autoreduce\n",
      "after complete system\n",
      "after conditions\n",
      "after reduced [D(w(x, y), x, y, y) + (-1/(2*y)) * D(w(x, y), x, y) + (-12*y) * D(z(x, y), y) + (1/(2*y**2)) * D(w(x, y), x)]\n",
      "This is where we start\n",
      "D(w(x, y), x, x) + (-8*y**2) * D(z(x, y), x) + (4*y**2) * D(w(x, y), y) + (-8*y) * w(x, y)\n",
      "D(z(x, y), y, y) + (1/(2*y)) * D(z(x, y), y)\n",
      "D(z(x, y), x, y) + (-1/2) * D(w(x, y), y, y) + (1/(4*y)) * D(w(x, y), y) + (-1/(4*y**2)) * w(x, y)\n",
      "D(z(x, y), (x, 2)) + (-2) * D(w(x, y), x, y) + (12*y**2) * D(z(x, y), y) + (1/y) * D(w(x, y), x)\n",
      "D(w(x, y), x, y, y) + (-1/(2*y)) * D(w(x, y), x, y) + (-12*y) * D(z(x, y), y) + (1/(2*y**2)) * D(w(x, y), x)\n",
      "D(z(x, y), x, (y, 2)) + (-1/2) * D(w(x, y), y, y, y) + (1/(4*y)) * D(w(x, y), (y, 2)) + (-1/(2*y**2)) * D(w(x, y), y) + (1/(2*y**3)) * w(x, y)\n",
      "after autoreduce\n",
      "after complete system\n",
      "after conditions\n",
      "after reduced [D(z(x, y), y), D(z(x, y), x) + (0.500000000000000) * D(w(x, y), y) + ((5.33333333333333*y**3 + 0.333333333333333)/y) * w(x, y), D(w(x, y), x, y, y) + (-1/(2*y)) * D(w(x, y), x, y) + (-12*y) * D(z(x, y), y) + (1/(2*y**2)) * D(w(x, y), x)]\n",
      "This is where we start\n",
      "D(z(x, y), y)\n",
      "D(z(x, y), x) + (0.500000000000000) * D(w(x, y), y) + ((5.33333333333333*y**3 + 0.333333333333333)/y) * w(x, y)\n",
      "D(w(x, y), x, x) + (-8*y**2) * D(z(x, y), x) + (4*y**2) * D(w(x, y), y) + (-8*y) * w(x, y)\n",
      "D(z(x, y), y, y) + (1/(2*y)) * D(z(x, y), y)\n",
      "D(z(x, y), x, y) + (-1/2) * D(w(x, y), y, y) + (1/(4*y)) * D(w(x, y), y) + (-1/(4*y**2)) * w(x, y)\n",
      "D(z(x, y), (x, 2)) + (-2) * D(w(x, y), x, y) + (12*y**2) * D(z(x, y), y) + (1/y) * D(w(x, y), x)\n",
      "D(w(x, y), y, y, y) + (3/(4*y**2)) * D(w(x, y), y) + (-3/(4*y**3)) * w(x, y)\n",
      "D(w(x, y), x, y, y) + (-1/(2*y)) * D(w(x, y), x, y) + (-12*y) * D(z(x, y), y) + (1/(2*y**2)) * D(w(x, y), x)\n",
      "D(w(x, y), x, x, y) + (-8.0*y**2) * D(z(x, y), x, y) + (4.0*y**2) * D(w(x, y), (y, 2)) + (-16.0*y) * D(z(x, y), x) + (-8.00000000000000) * w(x, y)\n",
      "D(z(x, y), x, (y, 2)) + (-1/2) * D(w(x, y), y, y, y) + (1/(4*y)) * D(w(x, y), (y, 2)) + (-1/(2*y**2)) * D(w(x, y), y) + (1/(2*y**3)) * w(x, y)\n",
      "after autoreduce\n",
      "after complete system\n",
      "after conditions\n",
      "after reduced []\n"
     ]
    },
    {
     "data": {
      "text/latex": [
       "$\\displaystyle 1.0 z(x, y)_{x}[], []$"
      ],
      "text/plain": [
       "<IPython.core.display.Math object>"
      ]
     },
     "metadata": {},
     "output_type": "display_data"
    },
    {
     "data": {
      "text/latex": [
       "$\\displaystyle  z(x, y)_{y}[], []$"
      ],
      "text/plain": [
       "<IPython.core.display.Math object>"
      ]
     },
     "metadata": {},
     "output_type": "display_data"
    },
    {
     "data": {
      "text/latex": [
       "$\\displaystyle  w(x, y)_{x}[], []$"
      ],
      "text/plain": [
       "<IPython.core.display.Math object>"
      ]
     },
     "metadata": {},
     "output_type": "display_data"
    },
    {
     "data": {
      "text/latex": [
       "$\\displaystyle  w(x, y)_{y}[], []$"
      ],
      "text/plain": [
       "<IPython.core.display.Math object>"
      ]
     },
     "metadata": {},
     "output_type": "display_data"
    },
    {
     "data": {
      "text/latex": [
       "$\\displaystyle  w[], []$"
      ],
      "text/plain": [
       "<IPython.core.display.Math object>"
      ]
     },
     "metadata": {},
     "output_type": "display_data"
    },
    {
     "name": "stdout",
     "output_type": "stream",
     "text": [
      "0.44171690940856934\n",
      "======================================================================================================================================================\n",
      "This is where we start\n",
      "D(z(x, y), y, y) + (1/(2*y)) * D(z(x, y), y)\n",
      "D(w(x, y), x, x) + (4*y**2) * D(w(x, y), y) + (-8*y**2) * D(z(x, y), x) + (-8*y) * w(x, y)\n",
      "D(w(x, y), x, y) + (-1/2) * D(z(x, y), (x, 2)) + (-1/(2*y)) * D(w(x, y), x) + (-6*y**2) * D(z(x, y), y)\n",
      "D(w(x, y), y, y) + (-2) * D(z(x, y), x, y) + (-1/(2*y)) * D(w(x, y), y) + (1/(2*y**2)) * w(x, y)\n",
      "after autoreduce\n",
      "after complete system\n",
      "after conditions\n",
      "after reduced [D(z(x, y), (x, 3)) + (12.0*y**2) * D(z(x, y), x, y) + (-24.0*y) * D(z(x, y), x) + (-12.0000000000000) * w(x, y), D(z(x, y), (x, 2), y) + (-6.0*y) * D(z(x, y), y)]\n",
      "This is where we start\n",
      "D(z(x, y), y, y) + (1/(2*y)) * D(z(x, y), y)\n",
      "D(w(x, y), x, x) + (4*y**2) * D(w(x, y), y) + (-8*y**2) * D(z(x, y), x) + (-8*y) * w(x, y)\n",
      "D(w(x, y), x, y) + (-1/2) * D(z(x, y), (x, 2)) + (-1/(2*y)) * D(w(x, y), x) + (-6*y**2) * D(z(x, y), y)\n",
      "D(w(x, y), y, y) + (-2) * D(z(x, y), x, y) + (-1/(2*y)) * D(w(x, y), y) + (1/(2*y**2)) * w(x, y)\n",
      "D(z(x, y), (x, 3)) + (12.0*y**2) * D(z(x, y), x, y) + (-24.0*y) * D(z(x, y), x) + (-12.0000000000000) * w(x, y)\n",
      "D(z(x, y), (x, 2), y) + (-6.0*y) * D(z(x, y), y)\n",
      "after autoreduce\n",
      "after complete system\n",
      "after conditions\n",
      "after reduced [D(z(x, y), (x, 3)) + (12.0*y**2) * D(z(x, y), x, y) + (-24.0*y) * D(z(x, y), x) + (-12.0000000000000) * w(x, y), D(z(x, y), (x, 2), y) + (-6.0*y) * D(z(x, y), y), D(w(x, y), y) + (2.00000000000000) * D(z(x, y), x)]\n",
      "This is where we start\n",
      "D(w(x, y), y) + (2.00000000000000) * D(z(x, y), x)\n",
      "D(z(x, y), y, y) + (1/(2*y)) * D(z(x, y), y)\n",
      "D(w(x, y), x, x) + (4*y**2) * D(w(x, y), y) + (-8*y**2) * D(z(x, y), x) + (-8*y) * w(x, y)\n",
      "D(w(x, y), x, y) + (-1/2) * D(z(x, y), (x, 2)) + (-1/(2*y)) * D(w(x, y), x) + (-6*y**2) * D(z(x, y), y)\n",
      "D(w(x, y), y, y) + (-2) * D(z(x, y), x, y) + (-1/(2*y)) * D(w(x, y), y) + (1/(2*y**2)) * w(x, y)\n",
      "D(z(x, y), (x, 3)) + (12.0*y**2) * D(z(x, y), x, y) + (-24.0*y) * D(z(x, y), x) + (-12.0000000000000) * w(x, y)\n",
      "D(z(x, y), (x, 2), y) + (-6.0*y) * D(z(x, y), y)\n",
      "after autoreduce\n",
      "after complete system\n",
      "after conditions\n",
      "after reduced [D(w(x, y), y) + (-1.0/y) * w(x, y), D(w(x, y), x)]\n",
      "This is where we start\n",
      "D(z(x, y), x) + (0.5/y) * w(x, y)\n",
      "D(z(x, y), y)\n",
      "D(w(x, y), x)\n",
      "D(w(x, y), y) + (-1.0/y) * w(x, y)\n",
      "after autoreduce\n",
      "after complete system\n",
      "after conditions\n",
      "after reduced [D(w(x, y), y) + (-1.0/y) * w(x, y), D(w(x, y), x)]\n"
     ]
    },
    {
     "data": {
      "text/latex": [
       "$\\displaystyle 1.0 z(x, y)_{x} + \\frac{0.5}{y} w[], []$"
      ],
      "text/plain": [
       "<IPython.core.display.Math object>"
      ]
     },
     "metadata": {},
     "output_type": "display_data"
    },
    {
     "data": {
      "text/latex": [
       "$\\displaystyle 1.0 z(x, y)_{y}[], []$"
      ],
      "text/plain": [
       "<IPython.core.display.Math object>"
      ]
     },
     "metadata": {},
     "output_type": "display_data"
    },
    {
     "data": {
      "text/latex": [
       "$\\displaystyle 1.0 w(x, y)_{x}[], []$"
      ],
      "text/plain": [
       "<IPython.core.display.Math object>"
      ]
     },
     "metadata": {},
     "output_type": "display_data"
    },
    {
     "data": {
      "text/latex": [
       "$\\displaystyle 1.0 w(x, y)_{y}- \\frac{1.0}{y} w[], []$"
      ],
      "text/plain": [
       "<IPython.core.display.Math object>"
      ]
     },
     "metadata": {},
     "output_type": "display_data"
    },
    {
     "name": "stdout",
     "output_type": "stream",
     "text": [
      "0.34836792945861816\n",
      "======================================================================================================================================================\n",
      "This is where we start\n",
      "D(w(x, y), x, x) + (-8*y**2) * D(z(x, y), x) + (4*y**2) * D(w(x, y), y) + (-8*y) * w(x, y)\n",
      "D(z(x, y), (x, 2)) + (-2) * D(w(x, y), x, y) + (12*y**2) * D(z(x, y), y) + (1/y) * D(w(x, y), x)\n",
      "D(z(x, y), x, y) + (-1/2) * D(w(x, y), y, y) + (1/(4*y)) * D(w(x, y), y) + (-1/(4*y**2)) * w(x, y)\n",
      "D(z(x, y), y, y) + (1/(2*y)) * D(z(x, y), y)\n",
      "after autoreduce\n",
      "after complete system\n",
      "after conditions\n",
      "after reduced [D(w(x, y), x, y, y) + (-1/(2*y)) * D(w(x, y), x, y) + (-12*y) * D(z(x, y), y) + (1/(2*y**2)) * D(w(x, y), x)]\n",
      "This is where we start\n",
      "D(w(x, y), x, x) + (-8*y**2) * D(z(x, y), x) + (4*y**2) * D(w(x, y), y) + (-8*y) * w(x, y)\n",
      "D(z(x, y), (x, 2)) + (-2) * D(w(x, y), x, y) + (12*y**2) * D(z(x, y), y) + (1/y) * D(w(x, y), x)\n",
      "D(z(x, y), x, y) + (-1/2) * D(w(x, y), y, y) + (1/(4*y)) * D(w(x, y), y) + (-1/(4*y**2)) * w(x, y)\n",
      "D(z(x, y), y, y) + (1/(2*y)) * D(z(x, y), y)\n",
      "D(w(x, y), x, y, y) + (-1/(2*y)) * D(w(x, y), x, y) + (-12*y) * D(z(x, y), y) + (1/(2*y**2)) * D(w(x, y), x)\n",
      "after autoreduce\n",
      "after complete system\n",
      "after conditions\n",
      "after reduced [D(w(x, y), x, y, y) + (-1/(2*y)) * D(w(x, y), x, y) + (-12*y) * D(z(x, y), y) + (1/(2*y**2)) * D(w(x, y), x)]\n"
     ]
    },
    {
     "ename": "TypeError",
     "evalue": "'symengine.lib.symengine_wrapper.Symbol' object is not subscriptable",
     "output_type": "error",
     "traceback": [
      "\u001b[0;31m---------------------------------------------------------------------------\u001b[0m",
      "\u001b[0;31mTypeError\u001b[0m                                 Traceback (most recent call last)",
      "Cell \u001b[0;32mIn[3], line 18\u001b[0m\n\u001b[1;32m     16\u001b[0m \u001b[38;5;28mprint\u001b[39m(\u001b[38;5;124m\"\u001b[39m\u001b[38;5;124m=\u001b[39m\u001b[38;5;124m\"\u001b[39m\u001b[38;5;241m*\u001b[39m\u001b[38;5;241m150\u001b[39m)\n\u001b[1;32m     17\u001b[0m jb\u001b[38;5;241m=\u001b[39mJanet_Basis(system_2_25, [z, w], [y, x], ordering)\n\u001b[0;32m---> 18\u001b[0m jb\u001b[38;5;241m.\u001b[39mshow(rich\u001b[38;5;241m=\u001b[39m\u001b[38;5;28;01mTrue\u001b[39;00m, short\u001b[38;5;241m=\u001b[39m\u001b[38;5;28;01mFalse\u001b[39;00m)\n\u001b[1;32m     19\u001b[0m \u001b[38;5;28mprint\u001b[39m(time\u001b[38;5;241m.\u001b[39mtime() \u001b[38;5;241m-\u001b[39m start)\n\u001b[1;32m     20\u001b[0m \u001b[38;5;28mprint\u001b[39m(\u001b[38;5;124m\"\u001b[39m\u001b[38;5;124m=\u001b[39m\u001b[38;5;124m\"\u001b[39m\u001b[38;5;241m*\u001b[39m\u001b[38;5;241m150\u001b[39m)\n",
      "File \u001b[0;32m~/workspace/delierium/src/delierium/JanetBasis.py:939\u001b[0m, in \u001b[0;36mJanet_Basis.show\u001b[0;34m(self, rich, short)\u001b[0m\n\u001b[1;32m    937\u001b[0m \u001b[38;5;28;01mif\u001b[39;00m rich:\n\u001b[1;32m    938\u001b[0m     \u001b[38;5;28;01mif\u001b[39;00m _in_ipython_session:\n\u001b[0;32m--> 939\u001b[0m         display(Math(_\u001b[38;5;241m.\u001b[39mshow()))\n\u001b[1;32m    940\u001b[0m     \u001b[38;5;28;01melse\u001b[39;00m:\n\u001b[1;32m    941\u001b[0m         \u001b[38;5;28mprint\u001b[39m([p\u001b[38;5;241m.\u001b[39mderivative \u001b[38;5;28;01mfor\u001b[39;00m p \u001b[38;5;129;01min\u001b[39;00m _\u001b[38;5;241m.\u001b[39mp])\n",
      "File \u001b[0;32m~/workspace/delierium/src/delierium/JanetBasis.py:362\u001b[0m, in \u001b[0;36mLHDP.show\u001b[0;34m(self, rich, short)\u001b[0m\n\u001b[1;32m    360\u001b[0m     res \u001b[38;5;241m+\u001b[39m\u001b[38;5;241m=\u001b[39m \u001b[38;5;124m\"\u001b[39m\u001b[38;5;124m \u001b[39m\u001b[38;5;124m\"\u001b[39m \u001b[38;5;241m+\u001b[39m \u001b[38;5;28mstr\u001b[39m(_\u001b[38;5;241m.\u001b[39mderivative)\n\u001b[1;32m    361\u001b[0m \u001b[38;5;28;01melse\u001b[39;00m:\n\u001b[0;32m--> 362\u001b[0m     s \u001b[38;5;241m=\u001b[39m _\u001b[38;5;241m.\u001b[39mshow()\n\u001b[1;32m    363\u001b[0m     \u001b[38;5;28;01mif\u001b[39;00m \u001b[38;5;129;01mnot\u001b[39;00m res:\n\u001b[1;32m    364\u001b[0m         res \u001b[38;5;241m=\u001b[39m s\n",
      "File \u001b[0;32m~/workspace/delierium/src/delierium/JanetBasis.py:155\u001b[0m, in \u001b[0;36m_Dterm.show\u001b[0;34m(self, rich)\u001b[0m\n\u001b[1;32m    153\u001b[0m \u001b[38;5;28;01mif\u001b[39;00m \u001b[38;5;129;01mnot\u001b[39;00m rich:\n\u001b[1;32m    154\u001b[0m     \u001b[38;5;28;01mreturn\u001b[39;00m \u001b[38;5;28mstr\u001b[39m(\u001b[38;5;28mself\u001b[39m)\n\u001b[0;32m--> 155\u001b[0m \u001b[38;5;28;01mreturn\u001b[39;00m \u001b[38;5;28mself\u001b[39m\u001b[38;5;241m.\u001b[39mlatex()\n",
      "File \u001b[0;32m~/workspace/delierium/src/delierium/JanetBasis.py:190\u001b[0m, in \u001b[0;36m_Dterm.latex\u001b[0;34m(self)\u001b[0m\n\u001b[1;32m    187\u001b[0m         \u001b[38;5;28;01mreturn\u001b[39;00m \u001b[38;5;124mrf\u001b[39m\u001b[38;5;124m\"\u001b[39m\u001b[38;5;124m(\u001b[39m\u001b[38;5;132;01m{\u001b[39;00mc\u001b[38;5;132;01m}\u001b[39;00m\u001b[38;5;124m)\u001b[39m\u001b[38;5;124m\"\u001b[39m\n\u001b[1;32m    188\u001b[0m     \u001b[38;5;28;01mreturn\u001b[39;00m c\n\u001b[0;32m--> 190\u001b[0m d \u001b[38;5;241m=\u001b[39m _latex_derivative(\u001b[38;5;28mself\u001b[39m\u001b[38;5;241m.\u001b[39mderivative)\n\u001b[1;32m    191\u001b[0m c \u001b[38;5;241m=\u001b[39m _latex_coeff(\u001b[38;5;28mself\u001b[39m\u001b[38;5;241m.\u001b[39mcoeff)\n\u001b[1;32m    192\u001b[0m \u001b[38;5;28;01mreturn\u001b[39;00m \u001b[38;5;124mf\u001b[39m\u001b[38;5;124m\"\u001b[39m\u001b[38;5;132;01m{\u001b[39;00mc\u001b[38;5;132;01m}\u001b[39;00m\u001b[38;5;124m \u001b[39m\u001b[38;5;132;01m{\u001b[39;00md\u001b[38;5;132;01m}\u001b[39;00m\u001b[38;5;124m\"\u001b[39m\n",
      "File \u001b[0;32m~/workspace/delierium/src/delierium/JanetBasis.py:166\u001b[0m, in \u001b[0;36m_Dterm.latex.<locals>._latex_derivative\u001b[0;34m(deriv)\u001b[0m\n\u001b[1;32m    164\u001b[0m inter \u001b[38;5;241m=\u001b[39m []\n\u001b[1;32m    165\u001b[0m \u001b[38;5;28;01mfor\u001b[39;00m v \u001b[38;5;129;01min\u001b[39;00m ps:\n\u001b[0;32m--> 166\u001b[0m     inter\u001b[38;5;241m.\u001b[39mappend(\u001b[38;5;124m\"\u001b[39m\u001b[38;5;124m,\u001b[39m\u001b[38;5;124m\"\u001b[39m\u001b[38;5;241m.\u001b[39mjoin((latex(v[\u001b[38;5;241m0\u001b[39m])\u001b[38;5;241m*\u001b[39mv[\u001b[38;5;241m1\u001b[39m])))\n\u001b[1;32m    167\u001b[0m sub \u001b[38;5;241m=\u001b[39m \u001b[38;5;124m\"\u001b[39m\u001b[38;5;124m,\u001b[39m\u001b[38;5;124m\"\u001b[39m\u001b[38;5;241m.\u001b[39mjoin(inter)\n\u001b[1;32m    168\u001b[0m \u001b[38;5;28;01mreturn\u001b[39;00m \u001b[38;5;124mf\u001b[39m\u001b[38;5;124m\"\u001b[39m\u001b[38;5;132;01m{\u001b[39;00mfunc\u001b[38;5;132;01m}\u001b[39;00m\u001b[38;5;124m_\u001b[39m\u001b[38;5;130;01m{{\u001b[39;00m\u001b[38;5;132;01m{\u001b[39;00msub\u001b[38;5;132;01m}\u001b[39;00m\u001b[38;5;130;01m}}\u001b[39;00m\u001b[38;5;124m\"\u001b[39m\n",
      "\u001b[0;31mTypeError\u001b[0m: 'symengine.lib.symengine_wrapper.Symbol' object is not subscriptable"
     ]
    }
   ],
   "source": [
    "start=time.time()\n",
    "ordering = Mgrevlex\n",
    "jb=Janet_Basis(system_2_25, [w, z], [x,y], ordering)\n",
    "jb.show(rich=True, short=False)\n",
    "print(time.time() - start)\n",
    "print(\"=\"*150)\n",
    "start=time.time()\n",
    "jb=Janet_Basis(system_2_25, [z, w], [x,y], ordering)\n",
    "jb.show(rich=True, short=False)\n",
    "print(time.time() - start)\n",
    "print(\"=\"*150)\n",
    "start=time.time()\n",
    "jb=Janet_Basis(system_2_25, [w, z], [y, x], ordering)\n",
    "jb.show(rich=True, short=False)\n",
    "print(time.time() - start)\n",
    "print(\"=\"*150)\n",
    "jb=Janet_Basis(system_2_25, [z, w], [y, x], ordering)\n",
    "jb.show(rich=True, short=False)\n",
    "print(time.time() - start)\n",
    "print(\"=\"*150)\n",
    "\n"
   ]
  },
  {
   "cell_type": "code",
   "execution_count": null,
   "id": "900edc2a-aa03-4ce7-a0b2-2459065ecfcf",
   "metadata": {},
   "outputs": [],
   "source": [
    "start=time.time()\n",
    "ordering = Mgrlex\n",
    "jb=Janet_Basis(system_2_25, [w, z], [x,y], ordering)\n",
    "jb.show(rich=False, short=True)\n",
    "print(time.time() - start)\n",
    "print(\"=\"*150)\n",
    "start=time.time()\n",
    "jb=Janet_Basis(system_2_25, [z, w], [x,y], ordering)\n",
    "jb.show(rich=True, short=False)\n",
    "print(time.time() - start)\n",
    "print(\"=\"*150)\n",
    "start=time.time()\n",
    "jb=Janet_Basis(system_2_25, [w, z], [y, x], ordering)\n",
    "jb.show(rich=False, short=True)\n",
    "print(time.time() - start)\n",
    "print(\"=\"*150)\n",
    "jb=Janet_Basis(system_2_25, [z, w], [y, x], ordering)\n",
    "jb.show(rich=False, short=True)\n",
    "print(time.time() - start)\n",
    "print(\"=\"*150)"
   ]
  },
  {
   "cell_type": "code",
   "execution_count": null,
   "id": "653ad4ca-120d-4245-b456-0da31aac39a6",
   "metadata": {
    "editable": true,
    "slideshow": {
     "slide_type": ""
    },
    "tags": []
   },
   "outputs": [],
   "source": [
    "start=time.time()\n",
    "ordering = Mlex\n",
    "jb=Janet_Basis(system_2_25, [w, z], [x,y], ordering)\n",
    "jb.show(rich=False, short=True)\n",
    "print(time.time() - start)\n",
    "print(\"=\"*150)\n",
    "start=time.time()\n",
    "jb=Janet_Basis(system_2_25, [z, w], [x,y], ordering)\n",
    "jb.show(rich=False, short=True)\n",
    "print(time.time() - start)\n",
    "print(\"=\"*150)\n",
    "start=time.time()\n",
    "jb=Janet_Basis(system_2_25, [w, z], [y, x], ordering)\n",
    "jb.show(rich=False, short=True)\n",
    "print(time.time() - start)\n",
    "print(\"=\"*150)\n",
    "jb=Janet_Basis(system_2_25, [z, w], [y, x], ordering)\n",
    "jb.show(rich=False, short=True)\n",
    "print(time.time() - start)\n",
    "print(\"=\"*150)"
   ]
  },
  {
   "cell_type": "code",
   "execution_count": null,
   "id": "06cd3a2c-7598-4fc7-b7eb-2e5913fc5c7c",
   "metadata": {},
   "outputs": [],
   "source": []
  }
 ],
 "metadata": {
  "kernelspec": {
   "display_name": "Python 3 (ipykernel)",
   "language": "python",
   "name": "python3"
  },
  "language_info": {
   "codemirror_mode": {
    "name": "ipython",
    "version": 3
   },
   "file_extension": ".py",
   "mimetype": "text/x-python",
   "name": "python",
   "nbconvert_exporter": "python",
   "pygments_lexer": "ipython3",
   "version": "3.12.2"
  },
  "widgets": {
   "application/vnd.jupyter.widget-state+json": {
    "state": {},
    "version_major": 2,
    "version_minor": 0
   }
  }
 },
 "nbformat": 4,
 "nbformat_minor": 5
}
