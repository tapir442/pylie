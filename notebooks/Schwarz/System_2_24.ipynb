{
 "cells": [
  {
   "cell_type": "code",
   "execution_count": 1,
   "id": "960b1103-aafd-406d-93ab-75d36bfdfd02",
   "metadata": {},
   "outputs": [],
   "source": [
    "from sympy import symbols, Function, diff\n",
    "from delierium.matrix_order import Context, Mgrlex, Mgrevlex, Mlex\n",
    "from delierium.JanetBasis import Janet_Basis, _Differential_Polynomial\n",
    "from delierium.helpers import latexer\n",
    "from IPython.display import Math\n",
    "\n",
    "x, y = symbols(\"x, y\")\n",
    "z = Function(\"z\")(x,y)\n",
    "w = Function(\"w\")(x,y)\n",
    "# ctx: items are in descending order\"\n",
    "ctx_grevlex_f = Context((w,z), (x,y), Mgrevlex)\n",
    "ctx_grlex_f   = Context((w,z), (x,y), Mgrlex)\n",
    "ctx_lex_f     = Context((w,z), (x,y), Mlex)\n",
    "\n",
    "f1 = diff(w, y) + x*diff(z,y)/(2*y*(x**2+y)) - w/y\n",
    "f2 = diff(z,x,y) + y*diff(w,y)/x + 2*y*diff(z, x)/x\n",
    "f3 = diff(w, x,y) - 2*x*diff(z, x,2)/y - x*diff(w,x)/y**2\n",
    "f4 = diff(w, x,y) + diff(z, x,y) + diff(w, y)/(2*y) - diff(w,x)/y + x* diff(z, y)/y - w/(2*y**2)\n",
    "f5 = diff(w,y,y) + diff(z,x,y) - diff(w, y)/y + w/(y**2)\n",
    "system_2_24 = [f4,f2,f1,f5,f3]\n",
    "%load_ext snakeviz\n",
    "%load_ext line_profiler\n",
    "import time\n"
   ]
  },
  {
   "cell_type": "code",
   "execution_count": 2,
   "id": "286b584a-81b3-4481-a9f7-63f129bb27e6",
   "metadata": {
    "tags": []
   },
   "outputs": [
    {
     "name": "stdout",
     "output_type": "stream",
     "text": [
      "[Derivative(z(x, y), y)]\n",
      "[Derivative(z(x, y), x), w(x, y)]\n",
      "[Derivative(w(x, y), y), w(x, y)]\n",
      "[Derivative(w(x, y), x)]\n",
      "0.2748908996582031\n",
      "======================================================================================================================================================\n",
      "[w(x, y)]\n",
      "[Derivative(z(x, y), y)]\n",
      "[Derivative(z(x, y), x)]\n",
      "3.3328216075897217\n",
      "======================================================================================================================================================\n",
      "[w(x, y)]\n",
      "[Derivative(z(x, y), x)]\n",
      "[Derivative(z(x, y), y)]\n",
      "1.3242437839508057\n",
      "======================================================================================================================================================\n",
      "[w(x, y)]\n",
      "[Derivative(z(x, y), x)]\n",
      "[Derivative(z(x, y), y)]\n",
      "11.022312879562378\n",
      "======================================================================================================================================================\n"
     ]
    }
   ],
   "source": [
    "ordering = Mgrevlex\n",
    "start=time.time()\n",
    "jb=Janet_Basis(system_2_24, [w, z], [x,y], ordering)\n",
    "jb.show(rich=False, short=True)\n",
    "print(time.time() - start)\n",
    "print(\"=\"*150)\n",
    "start=time.time()\n",
    "jb=Janet_Basis(system_2_24, [z, w], [x,y], ordering)\n",
    "jb.show(rich=False, short=True)\n",
    "print(time.time() - start)\n",
    "print(\"=\"*150)\n",
    "start=time.time()\n",
    "jb=Janet_Basis(system_2_24, [w, z], [y, x], ordering)\n",
    "jb.show(rich=False, short=True)\n",
    "print(time.time() - start)\n",
    "print(\"=\"*150)\n",
    "start=time.time()\n",
    "jb=Janet_Basis(system_2_24, [z, w], [y, x], ordering)\n",
    "jb.show(rich=False, short=True)\n",
    "print(time.time() - start)\n",
    "print(\"=\"*150)\n"
   ]
  },
  {
   "cell_type": "code",
   "execution_count": 3,
   "id": "da3c9a5c-2a47-4497-a17b-3af9e508476e",
   "metadata": {},
   "outputs": [
    {
     "name": "stdout",
     "output_type": "stream",
     "text": [
      "[Derivative(z(x, y), y)]\n",
      "[Derivative(z(x, y), x), w(x, y)]\n",
      "[Derivative(w(x, y), y), w(x, y)]\n",
      "[Derivative(w(x, y), x)]\n",
      "0.0901041030883789\n",
      "======================================================================================================================================================\n",
      "[w(x, y)]\n",
      "[Derivative(z(x, y), y)]\n",
      "[Derivative(z(x, y), x)]\n",
      "0.5111794471740723\n",
      "======================================================================================================================================================\n",
      "[w(x, y)]\n",
      "[Derivative(z(x, y), x)]\n",
      "[Derivative(z(x, y), y)]\n",
      "0.1323072910308838\n",
      "======================================================================================================================================================\n",
      "[w(x, y)]\n",
      "[Derivative(z(x, y), x)]\n",
      "[Derivative(z(x, y), y)]\n",
      "1.0269081592559814\n",
      "======================================================================================================================================================\n"
     ]
    }
   ],
   "source": [
    "start=time.time()\n",
    "ordering = Mgrlex\n",
    "jb=Janet_Basis(system_2_24, [w, z], [x,y], ordering)\n",
    "jb.show(rich=False, short=True)\n",
    "print(time.time() - start)\n",
    "print(\"=\"*150)\n",
    "start=time.time()\n",
    "jb=Janet_Basis(system_2_24, [z, w], [x,y], ordering)\n",
    "jb.show(rich=False, short=True)\n",
    "print(time.time() - start)\n",
    "print(\"=\"*150)\n",
    "start=time.time()\n",
    "jb=Janet_Basis(system_2_24, [w, z], [y, x], ordering)\n",
    "jb.show(rich=False, short=True)\n",
    "print(time.time() - start)\n",
    "print(\"=\"*150)\n",
    "start=time.time()\n",
    "jb=Janet_Basis(system_2_24, [z, w], [y, x], ordering)\n",
    "jb.show(rich=False, short=True)\n",
    "print(time.time() - start)\n",
    "print(\"=\"*150)"
   ]
  },
  {
   "cell_type": "code",
   "execution_count": null,
   "id": "506c6cde-9941-445f-8d1a-e4d1cf286f6c",
   "metadata": {},
   "outputs": [
    {
     "name": "stdout",
     "output_type": "stream",
     "text": [
      "[Derivative(z(x, y), y)]\n",
      "[Derivative(z(x, y), (y, 2))]\n",
      "[Derivative(z(x, y), (x, 2))]\n",
      "[w(x, y), Derivative(z(x, y), x)]\n",
      "0.1999979019165039\n",
      "======================================================================================================================================================\n",
      "[w(x, y)]\n",
      "[Derivative(z(x, y), y)]\n",
      "[Derivative(z(x, y), x)]\n",
      "91.08058905601501\n",
      "======================================================================================================================================================\n",
      "[Derivative(z(x, y), (x, 2))]\n",
      "[Derivative(z(x, y), y)]\n",
      "[Derivative(z(x, y), x, y)]\n",
      "[w(x, y), Derivative(z(x, y), x)]\n",
      "6.105324029922485\n",
      "======================================================================================================================================================\n",
      "[w(x, y)]\n",
      "[Derivative(z(x, y), x)]\n",
      "[Derivative(z(x, y), y)]\n",
      "2278.9752311706543\n",
      "======================================================================================================================================================\n"
     ]
    }
   ],
   "source": [
    "start=time.time()\n",
    "ordering = Mlex\n",
    "jb=Janet_Basis(system_2_24, [w, z], [x,y], ordering)\n",
    "jb.show(rich=False, short=True)\n",
    "print(time.time() - start)\n",
    "print(\"=\"*150)\n",
    "start=time.time()\n",
    "jb=Janet_Basis(system_2_24, [z, w], [x,y], ordering)\n",
    "jb.show(rich=False, short=True)\n",
    "print(time.time() - start)\n",
    "print(\"=\"*150)\n",
    "start=time.time()\n",
    "jb=Janet_Basis(system_2_24, [w, z], [y, x], ordering)\n",
    "jb.show(rich=False, short=True)\n",
    "print(time.time() - start)\n",
    "print(\"=\"*150)\n",
    "start=time.time()\n",
    "jb=Janet_Basis(system_2_24, [z, w], [y, x], ordering)\n",
    "jb.show(rich=False, short=True)\n",
    "print(time.time() - start)\n",
    "print(\"=\"*150)"
   ]
  },
  {
   "cell_type": "code",
   "execution_count": null,
   "id": "cf8703ee-dc36-40d8-941d-a50787229aa6",
   "metadata": {},
   "outputs": [],
   "source": []
  }
 ],
 "metadata": {
  "kernelspec": {
   "display_name": "SageMath 10.2",
   "language": "sage",
   "name": "sagemath"
  },
  "language_info": {
   "codemirror_mode": {
    "name": "ipython",
    "version": 3
   },
   "file_extension": ".py",
   "mimetype": "text/x-python",
   "name": "python",
   "nbconvert_exporter": "python",
   "pygments_lexer": "ipython3",
   "version": "3.11.10"
  }
 },
 "nbformat": 4,
 "nbformat_minor": 5
}
