{
 "cells": [
  {
   "cell_type": "code",
   "execution_count": 1,
   "id": "a1b2bab9-c3fe-4209-8932-958eee3ff720",
   "metadata": {},
   "outputs": [],
   "source": [
    "import os\n",
    "os.environ[\"USE_SYMENGINE\"] = \"1\"\n",
    "\n",
    "from sympy.core.backend import *\n",
    "from delierium.matrix_order import Context, Mgrlex, Mgrevlex, Mlex\n",
    "from delierium.JanetBasis import Janet_Basis, LHDP\n",
    "from delierium.helpers import latexer\n",
    "from IPython.display import Math\n",
    "\n",
    "x, y = symbols(\"x, y\")\n",
    "z = Function(\"z\")(x, y)\n",
    "w = Function(\"w\")(x, y)"
   ]
  },
  {
   "cell_type": "code",
   "execution_count": 10,
   "id": "23f5c93d-bbbd-45c1-a555-8b1f605d99d2",
   "metadata": {},
   "outputs": [],
   "source": [
    "inp=[diff(w, y,y) +  3*diff(w,y)/(4 * y),\n",
    "    diff(z, x,2)+ 3*(y**2) * diff(z, y) - 6*(y**2)*diff(w,x) - 6*y*z,\n",
    "    diff(z,x,y) - diff(w,x,x)/2 - 3*diff(z,x)/(4 * y) - 9/2*(y**2)*diff(w,y),\n",
    "    diff(z,y,y)-2*diff(w,x,y)-3*diff(z,y)/(4 * y)+3/(4*(y**2))*z\n",
    "   ]"
   ]
  },
  {
   "cell_type": "code",
   "execution_count": 11,
   "id": "b7eb7ffe-49a5-408b-8d10-f7af69202b67",
   "metadata": {},
   "outputs": [
    {
     "data": {
      "text/plain": [
       "[(3/4)*Derivative(w(x, y), y)/y + Derivative(w(x, y), y, y),\n",
       " -6*y*z(x, y) - 6*y**2*Derivative(w(x, y), x) + 3*y**2*Derivative(z(x, y), y) + Derivative(z(x, y), x, x),\n",
       " (-3/4)*Derivative(z(x, y), x)/y - 4.5*y**2*Derivative(w(x, y), y) + (-1/2)*Derivative(w(x, y), x, x) + Derivative(z(x, y), x, y),\n",
       " (3/4)*z(x, y)/y**2 + (-3/4)*Derivative(z(x, y), y)/y - 2*Derivative(w(x, y), x, y) + Derivative(z(x, y), y, y)]"
      ]
     },
     "execution_count": 11,
     "metadata": {},
     "output_type": "execute_result"
    }
   ],
   "source": [
    "inp"
   ]
  },
  {
   "cell_type": "code",
   "execution_count": 15,
   "id": "e17b3cff-cb33-48a0-8656-ea15a817777a",
   "metadata": {},
   "outputs": [
    {
     "name": "stdout",
     "output_type": "stream",
     "text": [
      "This is where we start\n",
      "after autoreduce\n",
      "after complete system\n",
      "after conditions\n",
      "after reduced\n",
      "This is where we start\n",
      "after autoreduce\n",
      "after complete system\n",
      "after conditions\n",
      "after reduced\n",
      "This is where we start\n",
      "after autoreduce\n",
      "after complete system\n",
      "after conditions\n",
      "after reduced\n",
      "This is where we start\n",
      "after autoreduce\n",
      "after complete system\n",
      "after conditions\n",
      "after reduced\n"
     ]
    }
   ],
   "source": [
    "jb=Janet_Basis(inp, (z,w), (y,x),Mgrlex)"
   ]
  },
  {
   "cell_type": "code",
   "execution_count": 16,
   "id": "702457b0-ddcc-4417-bfa8-77a49a11bfa2",
   "metadata": {},
   "outputs": [
    {
     "data": {
      "text/latex": [
       "$\\displaystyle  w_{x} + \\frac{1}{2 y} z[], []$"
      ],
      "text/plain": [
       "<IPython.core.display.Math object>"
      ]
     },
     "metadata": {},
     "output_type": "display_data"
    },
    {
     "data": {
      "text/latex": [
       "$\\displaystyle  w_{y}[], []$"
      ],
      "text/plain": [
       "<IPython.core.display.Math object>"
      ]
     },
     "metadata": {},
     "output_type": "display_data"
    },
    {
     "data": {
      "text/latex": [
       "$\\displaystyle  z_{x}[], []$"
      ],
      "text/plain": [
       "<IPython.core.display.Math object>"
      ]
     },
     "metadata": {},
     "output_type": "display_data"
    },
    {
     "data": {
      "text/latex": [
       "$\\displaystyle  z_{y}- \\frac{1}{y} z[], []$"
      ],
      "text/plain": [
       "<IPython.core.display.Math object>"
      ]
     },
     "metadata": {},
     "output_type": "display_data"
    }
   ],
   "source": [
    "jb.show()"
   ]
  },
  {
   "cell_type": "markdown",
   "id": "70d02c46-71f7-480a-8956-5b59244d74a2",
   "metadata": {},
   "source": [
    "This is correct. ATTENTION: the alltypes doc makes a different input order for (w,z)!!"
   ]
  },
  {
   "cell_type": "code",
   "execution_count": 25,
   "id": "5375b2dd-b3b9-4225-9a56-cb43709d5715",
   "metadata": {},
   "outputs": [
    {
     "name": "stdout",
     "output_type": "stream",
     "text": [
      "This is where we start\n",
      "after autoreduce\n",
      "after complete system\n",
      "after conditions\n",
      "after reduced\n",
      "This is where we start\n",
      "after autoreduce\n",
      "after complete system\n",
      "after conditions\n",
      "after reduced\n",
      "ÖÖÖÖÖÖÖÖÖÖÖÖÖÖÖÖÖÖÖÖÖÖÖÖÖÖÖÖÖÖÖÖÖÖÖÖÖÖÖ\n"
     ]
    }
   ],
   "source": [
    "jb=Janet_Basis(inp, (z,w), (x,y),Mlex)"
   ]
  },
  {
   "cell_type": "code",
   "execution_count": 26,
   "id": "564dd05f-2780-4ef8-ba00-3f9402e1fccc",
   "metadata": {},
   "outputs": [
    {
     "data": {
      "text/latex": [
       "$\\displaystyle  w_{y}[], []$"
      ],
      "text/plain": [
       "<IPython.core.display.Math object>"
      ]
     },
     "metadata": {},
     "output_type": "display_data"
    },
    {
     "data": {
      "text/latex": [
       "$\\displaystyle  w_{y,y}[], []$"
      ],
      "text/plain": [
       "<IPython.core.display.Math object>"
      ]
     },
     "metadata": {},
     "output_type": "display_data"
    },
    {
     "data": {
      "text/latex": [
       "$\\displaystyle  w_{y,y,y}[], []$"
      ],
      "text/plain": [
       "<IPython.core.display.Math object>"
      ]
     },
     "metadata": {},
     "output_type": "display_data"
    },
    {
     "data": {
      "text/latex": [
       "$\\displaystyle  w_{x,y}[], []$"
      ],
      "text/plain": [
       "<IPython.core.display.Math object>"
      ]
     },
     "metadata": {},
     "output_type": "display_data"
    },
    {
     "data": {
      "text/latex": [
       "$\\displaystyle  w_{x,y,y}[], []$"
      ],
      "text/plain": [
       "<IPython.core.display.Math object>"
      ]
     },
     "metadata": {},
     "output_type": "display_data"
    },
    {
     "data": {
      "text/latex": [
       "$\\displaystyle  w_{x,y,y,y}[], []$"
      ],
      "text/plain": [
       "<IPython.core.display.Math object>"
      ]
     },
     "metadata": {},
     "output_type": "display_data"
    },
    {
     "data": {
      "text/latex": [
       "$\\displaystyle  w_{x,x}[], []$"
      ],
      "text/plain": [
       "<IPython.core.display.Math object>"
      ]
     },
     "metadata": {},
     "output_type": "display_data"
    },
    {
     "data": {
      "text/latex": [
       "$\\displaystyle  w_{x,x,x}[], []$"
      ],
      "text/plain": [
       "<IPython.core.display.Math object>"
      ]
     },
     "metadata": {},
     "output_type": "display_data"
    },
    {
     "data": {
      "text/latex": [
       "$\\displaystyle  z + 2 y w_{x}[], []$"
      ],
      "text/plain": [
       "<IPython.core.display.Math object>"
      ]
     },
     "metadata": {},
     "output_type": "display_data"
    }
   ],
   "source": [
    "jb.show()"
   ]
  },
  {
   "cell_type": "raw",
   "id": "70bc404c-8f7e-4dbd-bfda-ead0fa1774d1",
   "metadata": {},
   "source": [
    "# this is wrong! by any means, but short enough to be analyzed manually"
   ]
  },
  {
   "cell_type": "code",
   "execution_count": 27,
   "id": "245021a9-0e27-41dc-9820-d76b39477f44",
   "metadata": {},
   "outputs": [],
   "source": [
    "# Janet basis for module missing, see Alltypes docu"
   ]
  },
  {
   "cell_type": "code",
   "execution_count": null,
   "id": "2b89524e-208b-4b47-8ee7-789b60226b3a",
   "metadata": {},
   "outputs": [],
   "source": []
  }
 ],
 "metadata": {
  "kernelspec": {
   "display_name": "Python 3 (ipykernel)",
   "language": "python",
   "name": "python3"
  },
  "language_info": {
   "codemirror_mode": {
    "name": "ipython",
    "version": 3
   },
   "file_extension": ".py",
   "mimetype": "text/x-python",
   "name": "python",
   "nbconvert_exporter": "python",
   "pygments_lexer": "ipython3",
   "version": "3.12.7"
  }
 },
 "nbformat": 4,
 "nbformat_minor": 5
}
