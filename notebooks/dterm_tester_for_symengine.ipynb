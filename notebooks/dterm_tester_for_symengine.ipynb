{
 "cells": [
  {
   "cell_type": "code",
   "execution_count": 1,
   "id": "1ddf6005-3cc1-4b70-8764-5fa6d487e6a5",
   "metadata": {},
   "outputs": [],
   "source": [
    "import os\n",
    "os.environ[\"USE_SYMENGINE\"] = \"t\"\n",
    "\n",
    "from sympy.core.backend import diff, Derivative, symbols, Symbol, Function, Mul, Add\n",
    "from delierium.JanetBasis import Janet_Basis, _Dterm, LHDP\n",
    "from delierium.helpers import is_function, is_derivative\n",
    "from IPython.display import Math\n",
    "import functools\n",
    "from delierium.matrix_order import Mgrevlex,Context\n",
    "\n",
    "x, y = symbols (\"x y\")\n",
    "z = Function(\"z\")(x,y)\n",
    "w = Function(\"w\")(x,y)\n",
    "# ctx: items are in descending order\n",
    "ctx_grevlex_f = Context((w,z), (x,y), Mgrevlex)\n",
    "#ctx_grlex_f   = Context((w,z), (x,y), Mgrlex)\n",
    "#ctx_lex_f     = Context((w,z), vars, Mlex)\n",
    "\n",
    "f1 = diff(w, y) + x*diff(z,y)/(2*y*(x**2+y)) - w/y\n",
    "f2 = diff(z,x,y) + y*diff(w,y)/x + 2*y*diff(z, x)/x\n",
    "f3 = diff(w, x,y) - 2*x*diff(z, x,x)/y - x*diff(w,x)/y**2\n",
    "f4 = diff(w, x,y) + diff(z, x,y) + diff(w, y)/(2*y) - diff(w,x)/y + x* diff(z, y)/y - w/(2*y**2)\n",
    "f5 = diff(w,y,y) + diff(z,x,y) - diff(w, y)/y + w/(y**2)\n",
    "\n",
    "system_2_24 = [f1,f2,f3,f4,f5]\n",
    "%load_ext line_profiler\n"
   ]
  },
  {
   "cell_type": "code",
   "execution_count": 2,
   "id": "8e6a4c5a-c7b9-4239-9727-db43e0e9d898",
   "metadata": {},
   "outputs": [
    {
     "name": "stdout",
     "output_type": "stream",
     "text": [
      "True\n",
      "True\n"
     ]
    }
   ],
   "source": [
    "ddd=[z]\n",
    "mausi = diff(z,x,y,x)\n",
    "print(mausi.args[0] == z)\n",
    "print(mausi.args[0] in ddd)"
   ]
  },
  {
   "cell_type": "code",
   "execution_count": null,
   "id": "2319f687-58f3-4da0-936d-30c7ba2e209e",
   "metadata": {},
   "outputs": [
    {
     "name": "stdout",
     "output_type": "stream",
     "text": [
      "This is where we start\n",
      "D(w(x, y), y) + (x/(2*y*(x**2 + y))) * D(z(x, y), y) + (-1/y) * w(x, y)\n",
      "D(z(x, y), x, y) + (y/x) * D(w(x, y), y) + (2*y/x) * D(z(x, y), x)\n",
      "D(w(x, y), x, y) + D(z(x, y), x, y) + (1/(2*y)) * D(w(x, y), y) + (-1/(2*y**2)) * w(x, y) + (-1/y) * D(w(x, y), x) + (x/y) * D(z(x, y), y)\n",
      "D(w(x, y), y, y) + D(z(x, y), x, y) + (-1/y) * D(w(x, y), y) + (y**(-2)) * w(x, y)\n",
      "D(w(x, y), x, y) + (-2*x/y) * D(z(x, y), (x, 2)) + (-x/y**2) * D(w(x, y), x)\n"
     ]
    }
   ],
   "source": [
    "Janet_Basis([f2,f4,f5,f1,f3], (w,z), (x,y), Mgrevlex)\n",
    "\n",
    "\n"
   ]
  },
  {
   "cell_type": "code",
   "execution_count": null,
   "id": "d3aa1fb6-8448-40c8-9285-cf89d00ddf8e",
   "metadata": {},
   "outputs": [],
   "source": []
  }
 ],
 "metadata": {
  "kernelspec": {
   "display_name": "Python 3 (ipykernel)",
   "language": "python",
   "name": "python3"
  },
  "language_info": {
   "codemirror_mode": {
    "name": "ipython",
    "version": 3
   },
   "file_extension": ".py",
   "mimetype": "text/x-python",
   "name": "python",
   "nbconvert_exporter": "python",
   "pygments_lexer": "ipython3",
   "version": "3.10.15"
  },
  "widgets": {
   "application/vnd.jupyter.widget-state+json": {
    "state": {},
    "version_major": 2,
    "version_minor": 0
   }
  }
 },
 "nbformat": 4,
 "nbformat_minor": 5
}
