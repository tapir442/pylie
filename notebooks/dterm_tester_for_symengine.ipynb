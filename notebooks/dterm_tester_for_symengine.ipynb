{
 "cells": [
  {
   "cell_type": "code",
   "execution_count": 1,
   "id": "1ddf6005-3cc1-4b70-8764-5fa6d487e6a5",
   "metadata": {},
   "outputs": [
    {
     "name": "stdout",
     "output_type": "stream",
     "text": [
      "<class 'symengine.lib.symengine_wrapper.Function'>\n",
      "{'__name__': '__main__', '__doc__': 'Automatically created module for IPython interactive environment', '__package__': None, '__loader__': None, '__spec__': None, '__builtin__': <module 'builtins' (built-in)>, '__builtins__': <module 'builtins' (built-in)>, '_ih': ['', 'import os\\nos.environ[\"USE_SYMENGINE\"] = \"t\"\\n\\nfrom sympy.core.backend import diff, Derivative, symbols, Symbol, Function\\nfrom delierium.JanetBasis import Janet_Basis, _Dterm, LHDP\\nfrom delierium.helpers import is_function, is_derivative\\nfrom IPython.display import Math\\nimport functools\\nfrom delierium.matrix_order import Mgrevlex,Context\\n\\nprint(Function)\\n\\nx, y = symbols (\"x y\")\\n\\nz = Function(\"z\")(x,y)\\ndiff(z,x,x)\\nprint(locals())\\nw = Function(\"w\")(x,y)\\n# ctx: items are in descending order\\nctx_grevlex_f = Context((w,z), (x,y), Mgrevlex)\\n#ctx_grlex_f   = Context((w,z), (x,y), Mgrlex)\\n#ctx_lex_f     = Context((w,z), vars, Mlex)\\n\\nf1 = diff(w, y) + x*diff(z,y)/(2*y*(x**2+y)) - w/y\\nf2 = diff(z,x,y) + y*diff(w,y)/x + 2*y*diff(z, x)/x\\nfii = diff(z, x,x)\\nf3 = diff(w, x,y) - 2*x*diff(z, x,x)/y - x*diff(w,x)/y**2\\n#f4 = diff(w, x,y) + diff(z, x,y) + diff(w, y)/(2*y) - diff(w,x)/y + x* diff(z, y)/y - w/(2*y**2)\\n#f5 = diff(w,y,y) + diff(z,x,y) - diff(w, y)/y + w/(y**2)\\n\\nsystem_2_24 = [f1,f2,f3,f4,f5]\\nget_ipython().run_line_magic(\\'load_ext\\', \\'line_profiler\\')'], '_oh': {}, '_dh': [PosixPath('/home/tapir/research-disk/delierium/notebooks')], 'In': ['', 'import os\\nos.environ[\"USE_SYMENGINE\"] = \"t\"\\n\\nfrom sympy.core.backend import diff, Derivative, symbols, Symbol, Function\\nfrom delierium.JanetBasis import Janet_Basis, _Dterm, LHDP\\nfrom delierium.helpers import is_function, is_derivative\\nfrom IPython.display import Math\\nimport functools\\nfrom delierium.matrix_order import Mgrevlex,Context\\n\\nprint(Function)\\n\\nx, y = symbols (\"x y\")\\n\\nz = Function(\"z\")(x,y)\\ndiff(z,x,x)\\nprint(locals())\\nw = Function(\"w\")(x,y)\\n# ctx: items are in descending order\\nctx_grevlex_f = Context((w,z), (x,y), Mgrevlex)\\n#ctx_grlex_f   = Context((w,z), (x,y), Mgrlex)\\n#ctx_lex_f     = Context((w,z), vars, Mlex)\\n\\nf1 = diff(w, y) + x*diff(z,y)/(2*y*(x**2+y)) - w/y\\nf2 = diff(z,x,y) + y*diff(w,y)/x + 2*y*diff(z, x)/x\\nfii = diff(z, x,x)\\nf3 = diff(w, x,y) - 2*x*diff(z, x,x)/y - x*diff(w,x)/y**2\\n#f4 = diff(w, x,y) + diff(z, x,y) + diff(w, y)/(2*y) - diff(w,x)/y + x* diff(z, y)/y - w/(2*y**2)\\n#f5 = diff(w,y,y) + diff(z,x,y) - diff(w, y)/y + w/(y**2)\\n\\nsystem_2_24 = [f1,f2,f3,f4,f5]\\nget_ipython().run_line_magic(\\'load_ext\\', \\'line_profiler\\')'], 'Out': {}, 'get_ipython': <bound method InteractiveShell.get_ipython of <ipykernel.zmqshell.ZMQInteractiveShell object at 0x781d50418f10>>, 'exit': <IPython.core.autocall.ZMQExitAutocall object at 0x781d5042d9d0>, 'quit': <IPython.core.autocall.ZMQExitAutocall object at 0x781d5042d9d0>, 'open': <function open at 0x781d52652020>, '_': '', '__': '', '___': '', '__session__': '/home/tapir/research-disk/delierium/notebooks/dterm_tester_for_symengine.ipynb', '_i': '', '_ii': '', '_iii': '', '_i1': 'import os\\nos.environ[\"USE_SYMENGINE\"] = \"t\"\\n\\nfrom sympy.core.backend import diff, Derivative, symbols, Symbol, Function\\nfrom delierium.JanetBasis import Janet_Basis, _Dterm, LHDP\\nfrom delierium.helpers import is_function, is_derivative\\nfrom IPython.display import Math\\nimport functools\\nfrom delierium.matrix_order import Mgrevlex,Context\\n\\nprint(Function)\\n\\nx, y = symbols (\"x y\")\\n\\nz = Function(\"z\")(x,y)\\ndiff(z,x,x)\\nprint(locals())\\nw = Function(\"w\")(x,y)\\n# ctx: items are in descending order\\nctx_grevlex_f = Context((w,z), (x,y), Mgrevlex)\\n#ctx_grlex_f   = Context((w,z), (x,y), Mgrlex)\\n#ctx_lex_f     = Context((w,z), vars, Mlex)\\n\\nf1 = diff(w, y) + x*diff(z,y)/(2*y*(x**2+y)) - w/y\\nf2 = diff(z,x,y) + y*diff(w,y)/x + 2*y*diff(z, x)/x\\nfii = diff(z, x,x)\\nf3 = diff(w, x,y) - 2*x*diff(z, x,x)/y - x*diff(w,x)/y**2\\n#f4 = diff(w, x,y) + diff(z, x,y) + diff(w, y)/(2*y) - diff(w,x)/y + x* diff(z, y)/y - w/(2*y**2)\\n#f5 = diff(w,y,y) + diff(z,x,y) - diff(w, y)/y + w/(y**2)\\n\\nsystem_2_24 = [f1,f2,f3,f4,f5]\\n%load_ext line_profiler', 'os': <module 'os' (frozen)>, 'diff': <cyfunction diff at 0x781d4011e330>, 'Derivative': <class 'symengine.lib.symengine_wrapper.Derivative'>, 'symbols': <function symbols at 0x781d41c95580>, 'Symbol': <class 'symengine.lib.symengine_wrapper.Symbol'>, 'Function': <class 'symengine.lib.symengine_wrapper.Function'>, 'Janet_Basis': <class 'delierium.JanetBasis.Janet_Basis'>, '_Dterm': <class 'delierium.JanetBasis._Dterm'>, 'LHDP': <class 'delierium.JanetBasis.LHDP'>, 'is_function': <function is_function at 0x781d37f6c9a0>, 'is_derivative': <function is_derivative at 0x781d37f6c900>, 'Math': <class 'IPython.core.display.Math'>, 'functools': <module 'functools' from '/home/tapir/mambaforge/envs/sage/lib/python3.11/functools.py'>, 'Mgrevlex': <function Mgrevlex at 0x781d37fba340>, 'Context': <class 'delierium.matrix_order.Context'>, 'x': x, 'y': y, 'z': z(x, y)}\n"
     ]
    },
    {
     "ename": "NameError",
     "evalue": "name 'f4' is not defined",
     "output_type": "error",
     "traceback": [
      "\u001b[0;31m---------------------------------------------------------------------------\u001b[0m",
      "\u001b[0;31mNameError\u001b[0m                                 Traceback (most recent call last)",
      "Cell \u001b[0;32mIn[1], line 31\u001b[0m\n\u001b[1;32m     27\u001b[0m f3 \u001b[38;5;241m=\u001b[39m diff(w, x,y) \u001b[38;5;241m-\u001b[39m \u001b[38;5;241m2\u001b[39m\u001b[38;5;241m*\u001b[39mx\u001b[38;5;241m*\u001b[39mdiff(z, x,x)\u001b[38;5;241m/\u001b[39my \u001b[38;5;241m-\u001b[39m x\u001b[38;5;241m*\u001b[39mdiff(w,x)\u001b[38;5;241m/\u001b[39my\u001b[38;5;241m*\u001b[39m\u001b[38;5;241m*\u001b[39m\u001b[38;5;241m2\u001b[39m\n\u001b[1;32m     28\u001b[0m \u001b[38;5;66;03m#f4 = diff(w, x,y) + diff(z, x,y) + diff(w, y)/(2*y) - diff(w,x)/y + x* diff(z, y)/y - w/(2*y**2)\u001b[39;00m\n\u001b[1;32m     29\u001b[0m \u001b[38;5;66;03m#f5 = diff(w,y,y) + diff(z,x,y) - diff(w, y)/y + w/(y**2)\u001b[39;00m\n\u001b[0;32m---> 31\u001b[0m system_2_24 \u001b[38;5;241m=\u001b[39m [f1,f2,f3,\u001b[43mf4\u001b[49m,f5]\n\u001b[1;32m     32\u001b[0m get_ipython()\u001b[38;5;241m.\u001b[39mrun_line_magic(\u001b[38;5;124m'\u001b[39m\u001b[38;5;124mload_ext\u001b[39m\u001b[38;5;124m'\u001b[39m, \u001b[38;5;124m'\u001b[39m\u001b[38;5;124mline_profiler\u001b[39m\u001b[38;5;124m'\u001b[39m)\n",
      "\u001b[0;31mNameError\u001b[0m: name 'f4' is not defined"
     ]
    }
   ],
   "source": [
    "import os\n",
    "os.environ[\"USE_SYMENGINE\"] = \"t\"\n",
    "\n",
    "from sympy.core.backend import diff, Derivative, symbols, Symbol, Function\n",
    "from delierium.JanetBasis import Janet_Basis, _Dterm, LHDP\n",
    "from delierium.helpers import is_function, is_derivative\n",
    "from IPython.display import Math\n",
    "import functools\n",
    "from delierium.matrix_order import Mgrevlex,Context\n",
    "\n",
    "print(Function)\n",
    "\n",
    "x, y = symbols (\"x y\")\n",
    "\n",
    "z = Function(\"z\")(x,y)\n",
    "diff(z,x,x)\n",
    "print(locals())\n",
    "w = Function(\"w\")(x,y)\n",
    "# ctx: items are in descending order\n",
    "ctx_grevlex_f = Context((w,z), (x,y), Mgrevlex)\n",
    "#ctx_grlex_f   = Context((w,z), (x,y), Mgrlex)\n",
    "#ctx_lex_f     = Context((w,z), vars, Mlex)\n",
    "\n",
    "f1 = diff(w, y) + x*diff(z,y)/(2*y*(x**2+y)) - w/y\n",
    "f2 = diff(z,x,y) + y*diff(w,y)/x + 2*y*diff(z, x)/x\n",
    "fii = diff(z, x,x)\n",
    "f3 = diff(w, x,y) - 2*x*diff(z, x,x)/y - x*diff(w,x)/y**2\n",
    "#f4 = diff(w, x,y) + diff(z, x,y) + diff(w, y)/(2*y) - diff(w,x)/y + x* diff(z, y)/y - w/(2*y**2)\n",
    "#f5 = diff(w,y,y) + diff(z,x,y) - diff(w, y)/y + w/(y**2)\n",
    "\n",
    "system_2_24 = [f1,f2,f3,f4,f5]\n",
    "%load_ext line_profiler\n"
   ]
  },
  {
   "cell_type": "code",
   "execution_count": null,
   "id": "507428e8-56ac-43d8-80b1-231c2f6eafcd",
   "metadata": {},
   "outputs": [],
   "source": [
    "def _init(e, context):\n",
    "    from operator import mul\n",
    "    from symengine import FunctionSymbol    \n",
    "    if type(e) == FunctionSymbol:\n",
    "        operands = [e]\n",
    "    elif type(e) == Derivative:\n",
    "        operands = [e]\n",
    "    elif type(e) == Mul:\n",
    "        operands = [e]\n",
    "    elif type(e) == Symbol:\n",
    "        raise ValueError(f\"{e} is no term in a LHDP\")\n",
    "    else:\n",
    "        operands = e.make_args(e)\n",
    "    import pdb; pdb.set_trace()\n",
    "    r = [analyze_term(context, o) for o in operands]\n",
    "    dterms = {}\n",
    "    for _r in r:\n",
    "        dterms.setdefault(_r[0], []).append((_r[1], _r[2]))\n",
    "    p = []\n",
    "    for v in dterms.values():\n",
    "        # v is a list of tuples\n",
    "        c = 0\n",
    "        for tup in v:\n",
    "            c += tup[1]\n",
    "        p.append(_Dterm(derivative=v[0][0], coeff=c, context=context))\n",
    "    print(p)\n",
    "\n",
    "def analyze_term(context, term):\n",
    "    from operator import mul    \n",
    "    operands = split_into_operands(term)\n",
    "    coeffs = []\n",
    "    d = []\n",
    "    for operand in operands:\n",
    "        if is_function(operand):\n",
    "            if context.is_ctxfunc(operand):\n",
    "                d.append(operand)\n",
    "            else:\n",
    "                coeffs.append(operand)\n",
    "        elif is_derivative(operand):\n",
    "            if context.is_ctxfunc(operand.args[0].func()):\n",
    "                d.append(operand)\n",
    "            else:\n",
    "                coeffs.append(operand)\n",
    "        else:\n",
    "            coeffs.append(operand)\n",
    "    coeffs = functools.reduce(mul, coeffs, 1)\n",
    "    return str(d[0]), d[0], coeffs\n",
    "def split_into_operands(term):\n",
    "    if is_derivative(term):\n",
    "        operands = [term]\n",
    "    elif is_function(term):\n",
    "        operands = [term]\n",
    "    else:\n",
    "        try:\n",
    "            operands = term.as_ordered_factors()\n",
    "        except AttributeError:\n",
    "            # symengine\n",
    "            operands = term.args_as_sympy()\n",
    "    return operands\n"
   ]
  },
  {
   "cell_type": "code",
   "execution_count": null,
   "id": "48199092-9276-45a3-b2cf-35ea72dfdc31",
   "metadata": {},
   "outputs": [],
   "source": [
    "_init(x*y, ctx_grevlex_f)\n"
   ]
  },
  {
   "cell_type": "code",
   "execution_count": null,
   "id": "72e3f6a3-29ef-4739-982f-a6179bd4eedc",
   "metadata": {},
   "outputs": [],
   "source": []
  }
 ],
 "metadata": {
  "kernelspec": {
   "display_name": "Python 3 (ipykernel)",
   "language": "python",
   "name": "python3"
  },
  "language_info": {
   "codemirror_mode": {
    "name": "ipython",
    "version": 3
   },
   "file_extension": ".py",
   "mimetype": "text/x-python",
   "name": "python",
   "nbconvert_exporter": "python",
   "pygments_lexer": "ipython3",
   "version": "3.11.10"
  },
  "widgets": {
   "application/vnd.jupyter.widget-state+json": {
    "state": {},
    "version_major": 2,
    "version_minor": 0
   }
  }
 },
 "nbformat": 4,
 "nbformat_minor": 5
}
